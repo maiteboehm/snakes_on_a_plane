{
 "cells": [
  {
   "cell_type": "markdown",
   "metadata": {
    "id": "LZgQdr4W6iKz"
   },
   "source": [
    "# Assignment 02\n",
    "##### Python Basics II\n",
    "\n",
    "This tutorial was written by Terry Ruas (University of Göttingen); The references for external contributors for which this material was anyhow adapted/inspired are in the Acknowledgments section (end of the document).\n"
   ]
  },
  {
   "cell_type": "markdown",
   "metadata": {
    "id": "Yvektzz_6iK1"
   },
   "source": [
    "This notebook will cover the following tasks:\n",
    "\n",
    "1. String Length\n",
    "2. Largest List Element\n",
    "3. Character Frequency\n",
    "4. Sorted List of Tuples\n",
    "5. Check Brackets\n",
    "6. Check Brackets II\n",
    "7. Queue\n",
    "8. Unlimited Power\n",
    "9. Unlimited Power II"
   ]
  },
  {
   "cell_type": "markdown",
   "metadata": {
    "id": "4GPUv_8U6iK1"
   },
   "source": [
    "## Task 01 – String Length\n",
    "Write a program that reads in a string and prints the length of the input string. Do not use any built-in functions of Python, such as len().\n",
    "For example, if the input is “Computer Science”, the output should be length: 16."
   ]
  },
  {
   "cell_type": "code",
   "execution_count": 4,
   "metadata": {
    "id": "xt3XV0YD6iK2"
   },
   "outputs": [
    {
     "name": "stdout",
     "output_type": "stream",
     "text": [
      "Maite\n",
      "lenght of input is 5\n"
     ]
    }
   ],
   "source": [
    "input_word = input()\n",
    "#input_word = \"lkjgtcakjgvl\"\n",
    "counter = 0\n",
    "\n",
    "for x in input_word:\n",
    "    counter += 1\n",
    "\n",
    "print(\"lenght of input is \" + str(counter))"
   ]
  },
  {
   "cell_type": "markdown",
   "metadata": {
    "id": "_Jz4T4AQ6iK3"
   },
   "source": [
    "## Task 02 – Largest List Element\n",
    "Write a program that generates a list of 10 random integers between 1 and 100 and then finds and prints the largest element in the list. Do not use the built-in function max().\n",
    "For example, if the input is [23,3,42,29,12,15,8,4,37,34], the output should be the largest element: 42.\n",
    "\n",
    "Hint: Check out the module [random](https://docs.python.org/3.7/library/random.html)."
   ]
  },
  {
   "cell_type": "code",
   "execution_count": 16,
   "metadata": {
    "id": "aKLGcZ0_6iK3"
   },
   "outputs": [
    {
     "name": "stdout",
     "output_type": "stream",
     "text": [
      "[81, 94, 64, 7, 19, 25, 45, 50, 31, 86]\n",
      "94\n"
     ]
    }
   ],
   "source": [
    "import random as rd\n",
    "\n",
    "random_number_list = []\n",
    "\n",
    "while len(random_number_list) < 10:\n",
    "    random_number_list.append(int(rd.randrange(100)))\n",
    "    n += 1\n",
    "\n",
    "print(random_number_list)\n",
    "\n",
    "largest_number = 0\n",
    "for n in random_number_list:\n",
    "    if n >= largest_number:\n",
    "        largest_number = n\n",
    "    else:\n",
    "        continue\n",
    "print(largest_number)\n",
    "\n",
    "    \n"
   ]
  },
  {
   "cell_type": "markdown",
   "metadata": {
    "id": "PalhJ9x36iK4"
   },
   "source": [
    "## Task 03 – Character Frequency\n",
    "Write a program that:\n",
    "* Reads in a string and removes any spaces from the string\n",
    "* Counts how often individual characters occur in the string\n",
    "* Stores the information on character occurrence frequency in a dictionary\n",
    "* Prints the dictionary.\n",
    "\n",
    "For example, if the input is “santa claus”, the output should be:\n",
    "{'s': 2, 'a': 3, 'n': 1, 't': 1, 'c': 1, 'l': 1, 'u': 1}."
   ]
  },
  {
   "cell_type": "code",
   "execution_count": 31,
   "metadata": {
    "id": "vm5UlcKB6iK4"
   },
   "outputs": [
    {
     "name": "stdout",
     "output_type": "stream",
     "text": [
      "{'n': 0, 's': 0, 'l': 0, 'u': 0, 't': 0, 'c': 0, 'a': 0, 'e': 0}\n",
      "{'n': 1, 's': 2, 'l': 1, 'u': 1, 't': 1, 'c': 1, 'a': 3, 'e': 1}\n"
     ]
    }
   ],
   "source": [
    "#input_string = input()\n",
    "input_string = \"santa clause\"\n",
    "characters = []\n",
    "\n",
    "for x in input_string:\n",
    "    if x == ' ':\n",
    "        continue\n",
    "    else:\n",
    "        characters.append(x)\n",
    "        \n",
    "key = set(characters)\n",
    "output = dict.fromkeys(key, 0)\n",
    "\n",
    "for character in input_string:\n",
    "    for x in key:\n",
    "        if character == x:\n",
    "            output[x] = int(output[x]+1)\n",
    "        else: \n",
    "            continue\n",
    "            \n",
    "print(output)"
   ]
  },
  {
   "cell_type": "markdown",
   "metadata": {
    "id": "JV1Mm9qA6iK5"
   },
   "source": [
    "## Task 04 – Sorted List of Tuples\n",
    "Write a program that:\n",
    "* Generates a list of 10 tuples, each tuple consisting of 3 random integers between 1 and 100\n",
    "* Sorts the list of tuples in increasing order of the third element in each tuple\n",
    "* Prints the sorted list of tuples\n",
    "\n",
    "For example, if the generated input list is: [(56, 77, 69), (43, 30, 38), (2, 77, 101), (93, 57, 4), (74, 21, 77), (39, 68, 68), (65, 53, 96), (16, 29, 88), (88, 70, 38)]\n",
    "The output should be: [(93, 57, 4), (43, 30, 38), (88, 70, 38), (39, 68, 68), (56, 77, 69), (74, 21, 77), (16, 29, 88), (65, 53, 96), (2, 77, 101)]\n",
    "\n",
    "Hint: You are allowed and encouraged to use built-in functions, such as [sorted()](https://docs.python.org/3.7/library/functions.html?highlight=sorted#sorted), for this task."
   ]
  },
  {
   "cell_type": "code",
   "execution_count": 6,
   "metadata": {
    "id": "C3i7ctus6iK6"
   },
   "outputs": [
    {
     "name": "stdout",
     "output_type": "stream",
     "text": [
      "[(48, 54, 8), (34, 9, 24), (44, 67, 29), (50, 74, 41), (36, 23, 48), (74, 19, 50), (7, 96, 76), (61, 94, 79), (31, 44, 82), (28, 80, 85)]\n"
     ]
    }
   ],
   "source": [
    "import random\n",
    "\n",
    "Tuple_list = []\n",
    "for i in range(10):\n",
    "    Tuple = []\n",
    "    for j in range(3):\n",
    "        n = random.uniform(0,100)\n",
    "        Tuple.append(int(n))\n",
    "        if j == 2:\n",
    "            Small_tuple = tuple(Tuple)\n",
    "            Tuple_list.append(Small_tuple)\n",
    "Tuple_list_sorted = sorted(Tuple_list, key=lambda tup: tup[2])\n",
    "print(Tuple_list_sorted)"
   ]
  },
  {
   "cell_type": "markdown",
   "metadata": {
    "id": "qz4P36Lz6iK6"
   },
   "source": [
    "## Task 05 – Check Brackets\n",
    "Write a program that reads in a string, which is supposed to be a mathematical expression. Focus on brackets only and check whether left and right brackets are composed correctly. Ignore all other characters (i.e. you don’t have to check correctness of operators and operands).\n",
    "Examples of correct input:\n",
    "* 3*(2+5)\n",
    "* ((()())())\n",
    "* (3+)(((4)))\n",
    "* Empty string\n",
    "\n",
    "Examples of incorrect input:\n",
    "* (3*(2+5)\n",
    "* ((()())(())\n",
    "* (3+)((4)))\n",
    "* ())(()\n"
   ]
  },
  {
   "cell_type": "code",
   "execution_count": 30,
   "metadata": {
    "id": "2c67p_Zc6iK7"
   },
   "outputs": [
    {
     "name": "stdout",
     "output_type": "stream",
     "text": [
      "(()())()(\n",
      "Number of left and right brackets unequal\n"
     ]
    }
   ],
   "source": [
    "input_string = input()\n",
    "\n",
    "character_list = list(input_string)\n",
    "\n",
    "counter_left = 0\n",
    "counter_right = 0\n",
    "check = True\n",
    "for element in character_list:\n",
    "    if element == '(':\n",
    "        counter_left += 1        \n",
    "    elif (element == ')'):\n",
    "        counter_right += 1\n",
    "        if counter_left < counter_right:\n",
    "            print('Invalide input')\n",
    "            check = False\n",
    "            break\n",
    "    else:\n",
    "        continue\n",
    "\n",
    "if (check == True) and (counter_left == counter_right):\n",
    "    print('Equal numbers of left and right brackets')    \n",
    "elif (check == True) and (counter_left != counter_right):\n",
    "    print('Number of left and right brackets unequal')"
   ]
  },
  {
   "cell_type": "markdown",
   "metadata": {
    "id": "k1kh3odh6iK7"
   },
   "source": [
    "## Task 06 – Check Brackets II\n",
    "Extend previous program, so it can handle also square and curly brackets. Note that expressions in brackets cannot overlap. So, expression ```{[()()]([[]])}{}``` is correct, but expression ```([)]``` is not."
   ]
  },
  {
   "cell_type": "code",
   "execution_count": 28,
   "metadata": {
    "id": "2-UCbTRQ6iK7"
   },
   "outputs": [
    {
     "name": "stdout",
     "output_type": "stream",
     "text": [
      "([)]\n",
      "Invalide input: brackets do not match.\n"
     ]
    }
   ],
   "source": [
    "input_string = input()\n",
    "#input_string = '([[]])}{}'\n",
    "\n",
    "bracket_dict = {\"{\" : \"}\", \"(\" : \")\", \"[\" : \"]\"}\n",
    "character_list = list(input_string)\n",
    "queue = []\n",
    "check = True\n",
    "\n",
    "for element in character_list:\n",
    "    if element in bracket_dict:\n",
    "        queue.append(element)\n",
    "    else:\n",
    "        if queue == []:\n",
    "            print('Invalide input: number of brackets does not match.')\n",
    "            check = False\n",
    "            break\n",
    "        elif element == bracket_dict[queue[-1]]:\n",
    "            queue.pop()\n",
    "        else:\n",
    "            print('Invalide input: brackets do not match.')\n",
    "            check = False\n",
    "            \n",
    "if (queue == []) and check == True:\n",
    "    print('Valide input')\n",
    "elif check == True:\n",
    "    print('Invalide input')"
   ]
  },
  {
   "cell_type": "markdown",
   "metadata": {
    "id": "tc-8rPlP6iK7"
   },
   "source": [
    "## Task 07 – Queue\n",
    "Write a program that simulates a queue. It will read strings from the input. Consider these inputs as names of people coming to the end of a queue. Whenever “next” is given as input, the program will print out the name on the turn. The program finishes as soon as the queue is empty."
   ]
  },
  {
   "cell_type": "code",
   "execution_count": 35,
   "metadata": {},
   "outputs": [
    {
     "name": "stdout",
     "output_type": "stream",
     "text": [
      "Maite\n",
      "Marcel\n",
      "Max\n",
      "next\n",
      "Maite\n",
      "next\n",
      "Marcel\n",
      "next\n",
      "Max\n"
     ]
    }
   ],
   "source": [
    "Name_list = []\n",
    "Name_list.append(input())\n",
    "\n",
    "while Name_list != []:\n",
    "    Input = input()\n",
    "    if Input == 'next':\n",
    "        print(Name_list[0])\n",
    "        Name_list.pop(0)\n",
    "    else:\n",
    "        Name_list.append(Input)"
   ]
  },
  {
   "cell_type": "markdown",
   "metadata": {
    "id": "eIhaN3g36iK8"
   },
   "source": [
    "## Task 08 – Unlimited Power\n",
    "Write a function with two arguments – $x$ and $n$. The function returns the value of $x^n$. Use [recursion](https://realpython.com/python-thinking-recursively/#recursive-data-structures-in-python)."
   ]
  },
  {
   "cell_type": "code",
   "execution_count": 3,
   "metadata": {
    "id": "KSGHEAeL6iK8"
   },
   "outputs": [
    {
     "name": "stdout",
     "output_type": "stream",
     "text": [
      "400\n"
     ]
    }
   ],
   "source": [
    "def x_power_n(x, n):\n",
    "    if n == 0:\n",
    "        return 1\n",
    "    else:\n",
    "        return x * x_power_n(x, n-1)\n",
    "\n",
    "print(x_power_n(20, 2))"
   ]
  },
  {
   "cell_type": "markdown",
   "metadata": {
    "id": "WBh2WBXY6iK8"
   },
   "source": [
    "## Task 09 – Unlimited Power II\n",
    "Using function for factorial and function $x^n$ from previous task, write a program that reads value of $x$ and prints approximate value of $e^x$. Use this formula (Taylor series) for calculation\n",
    "$$ e^x = 1 + x + \\frac{x^2}{2!} + \\frac{x^3}{3!} + ... + \\frac{x^n}{n!} $$\n",
    "\n",
    "To get precise value of $e^x$, the series would have to be infinite. Suppose that there is some required accuracy, so the calculation finishes as soon as the value of the next element is smaller than given threshold (e.g., 0.000001)."
   ]
  },
  {
   "cell_type": "code",
   "execution_count": 5,
   "metadata": {
    "id": "tRaZgBVX6iK9"
   },
   "outputs": [
    {
     "name": "stdout",
     "output_type": "stream",
     "text": [
      "20.08553685145113\n"
     ]
    }
   ],
   "source": [
    "def factorial(x):\n",
    "    if x == 0:\n",
    "        return 1\n",
    "    else:\n",
    "        return x * factorial(x-1)\n",
    "\n",
    "def Taylor_series(x):\n",
    "    n = 0\n",
    "    Liste = [0]\n",
    "    threshold = 1\n",
    "    while float(threshold) > 0.000001:\n",
    "        Liste.append(Liste[-1] + (x_power_n(x,n)/factorial(n)))\n",
    "        threshold = Liste[-1]-Liste[-2]\n",
    "        n += 1\n",
    "    return Liste[-1]\n",
    " \n",
    "print(Taylor_series(3))"
   ]
  },
  {
   "cell_type": "markdown",
   "metadata": {
    "id": "Wl9JCEYM6iK-"
   },
   "source": [
    "## Acknowledgements\n",
    "\n",
    "Redmond, Hsu, Saini, Gupta, Ramsey, Kondrich, Capoor, Cohen, Borus, Kincaid, Malik, and many others. - Stanford CS41"
   ]
  },
  {
   "cell_type": "code",
   "execution_count": null,
   "metadata": {
    "id": "Bx-WQj4v6iK-"
   },
   "outputs": [],
   "source": []
  }
 ],
 "metadata": {
  "colab": {
   "provenance": []
  },
  "kernelspec": {
   "display_name": "Python 3 (ipykernel)",
   "language": "python",
   "name": "python3"
  },
  "language_info": {
   "codemirror_mode": {
    "name": "ipython",
    "version": 3
   },
   "file_extension": ".py",
   "mimetype": "text/x-python",
   "name": "python",
   "nbconvert_exporter": "python",
   "pygments_lexer": "ipython3",
   "version": "3.8.2"
  }
 },
 "nbformat": 4,
 "nbformat_minor": 1
}
