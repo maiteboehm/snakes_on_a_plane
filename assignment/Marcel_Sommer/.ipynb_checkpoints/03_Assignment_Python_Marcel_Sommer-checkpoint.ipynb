{
 "cells": [
  {
   "cell_type": "markdown",
   "metadata": {
    "id": "3i7Q6MM_7a82"
   },
   "source": [
    "# Assignment 03\n",
    "#### Python Basics III - Functions and Classes\n",
    "\n",
    "This tutorial was written by Terry L. Ruas (University of Göttingen). The references for external contributors for which this material was anyhow adapted/inspired are in the Acknowledgments section (end of the document)."
   ]
  },
  {
   "cell_type": "markdown",
   "metadata": {
    "id": "eKtTDCOS7a83"
   },
   "source": [
    "This notebook will cover the following tasks:\n",
    "\n",
    "1. Dictionary\n",
    "2. Classes"
   ]
  },
  {
   "cell_type": "markdown",
   "metadata": {
    "id": "XumFInmh7a85",
    "tags": []
   },
   "source": [
    "## Task 01 – Dictionary\n",
    "Imagine you have to write a (very simple) bookkeepingsystem for a bank that keeps track of the account balances of each of its customers.\n",
    "1. Write a function that spans a dictionary holding a default balance of 0 for an initial list of customers. For simplicity, assume customer names are unique identifier.  (optional) Can you express that same functionality using a lambda function?\n",
    "2. What are elegant ways to add or remove single and multiple customers using the functionality of dict?\n",
    "3. Now write two simple functions that allow you to deposit and withdraw money for a given bank customer.\n",
    "4. Include error messages for inputs that are not permissible, e.g., withdrawing negative amounts or overdrawing the account, etc."
   ]
  },
  {
   "cell_type": "code",
   "execution_count": 3,
   "metadata": {
    "id": "aEr0j2IX7a85"
   },
   "outputs": [
    {
     "name": "stdout",
     "output_type": "stream",
     "text": [
      "{'c1': 0, 'c2': 0, 'c3': 0, 'c4': 0, 'c5': 0}\n",
      "{'c1': 0, 'c2': 0, 'c3': 0, 'c4': 0, 'c5': 0}\n",
      "{'c1': 0, 'c2': 0, 'c3': 0, 'c4': 0, 'c5': 0, 'c6': 0}\n",
      "{'c1': 0, 'c2': 0, 'c4': 0, 'c5': 0, 'c6': 0}\n",
      "{'c1': 0, 'c2': 0, 'c6': 0}\n",
      "{'c1': 0, 'c2': 0, 'c6': 100}\n",
      "{'c1': 0, 'c2': 0, 'c6': 60}\n",
      "Error: negativ balance not allowed\n"
     ]
    }
   ],
   "source": [
    "# 1 \n",
    "customer=['c1', 'c2', 'c3', 'c4', 'c5']\n",
    "def customer_dict(customer_list):\n",
    "    balance=0\n",
    "    customer_dictionary= dict.fromkeys(customer_list, balance)\n",
    "    return customer_dictionary\n",
    "\n",
    "Customer_dict=customer_dict(customer)\n",
    "#1a\n",
    "print(Customer_dict)\n",
    "#1b\n",
    "print((lambda customer_list, balance: dict.fromkeys(customer_list, balance))(customer,0)) \n",
    "\n",
    "#2\n",
    "\n",
    "def add_customer(existing_dic, new_customer, balance=0):\n",
    "    existing_dic[new_customer] = balance\n",
    "    return existing_dic\n",
    "\n",
    "def remove_customer(existing_dic, customer):\n",
    "    if type(customer) == str:\n",
    "        del existing_dic[customer]\n",
    "    else:\n",
    "        for i in customer:\n",
    "            del existing_dic[i]\n",
    "    return existing_dic\n",
    "\n",
    "Customer_dict=add_customer(Customer_dict, 'c6') \n",
    "print(Customer_dict)\n",
    "Customer_dict=remove_customer(Customer_dict,'c3')\n",
    "print(Customer_dict)\n",
    "Customer_dict=remove_customer(Customer_dict,['c4','c5'])\n",
    "print(Customer_dict)\n",
    "\n",
    "#3 \n",
    "\n",
    "def deposit_money(existing_dic, customer, value):\n",
    "    existing_dic[customer] = existing_dic[customer] + value\n",
    "    return existing_dic\n",
    "\n",
    "def withdraw_money(existing_dic, customer, value):\n",
    "    if value < 0:\n",
    "        print('Eroor: it is not possible to withdraw a negativ amount!')    \n",
    "    elif existing_dic[customer] - value < 0:\n",
    "        print('Error: negativ balance not allowed')\n",
    "    else:          \n",
    "        existing_dic[customer] = existing_dic[customer] - value\n",
    "    return existing_dic\n",
    "\n",
    "Customer_dict=deposit_money(Customer_dict, 'c6', 100) \n",
    "print(Customer_dict)\n",
    "Customer_dict=withdraw_money(Customer_dict, 'c6', 40) \n",
    "print(Customer_dict)\n",
    "Customer_dict=withdraw_money(Customer_dict, 'c1', 50)\n"
   ]
  },
  {
   "cell_type": "markdown",
   "metadata": {
    "id": "9tMOI3tn7a86"
   },
   "source": [
    "## Task 02 – Classes\n",
    "The manager thinks that the simple bookkeeping system you have built is not powerful enough. She requests that you start from scratch and use classes instead.\n",
    "1. Write a simple class with appropriate constructor *\\_\\_init\\_\\_* that initializes an object of class *Customer* tracking the same information as in Task 01.\n",
    "2. Now write two simple methods for class *Customer* that allow you to deposit and withdraw money for a given customer object.\n",
    "3. Include error messages for inputs that are not permissible, e.g., withdrawing negative amounts or overdrawing the account.\n",
    "4. (Inheritance) Write a child class *SavingsCustomer* that inherits its features from the parent class *Customer*. A savings customer has an extra savings balance for receiving extra interest. The class should have a method to transfer money back and forth between the accounts' main balance as well as the savings balance. Do not forget to add reasonable error messages."
   ]
  },
  {
   "cell_type": "code",
   "execution_count": null,
   "metadata": {
    "id": "mcZ6wBOO7a86"
   },
   "outputs": [],
   "source": []
  }
 ],
 "metadata": {
  "colab": {
   "provenance": []
  },
  "kernelspec": {
   "display_name": "Python 3 (ipykernel)",
   "language": "python",
   "name": "python3"
  },
  "language_info": {
   "codemirror_mode": {
    "name": "ipython",
    "version": 3
   },
   "file_extension": ".py",
   "mimetype": "text/x-python",
   "name": "python",
   "nbconvert_exporter": "python",
   "pygments_lexer": "ipython3",
   "version": "3.8.2"
  }
 },
 "nbformat": 4,
 "nbformat_minor": 4
}
