{
 "cells": [
  {
   "cell_type": "markdown",
   "metadata": {
    "id": "CyG8nU1B7btq"
   },
   "source": [
    "# Assignment 05\n",
    "#### Python Basics V - Text Processing\n",
    "\n",
    "This tutorial was written by Terry L. Ruas (University of Göttingen). The references for external contributors for which this material was anyhow adapted/inspired are in the Acknowledgments section (end of the document)."
   ]
  },
  {
   "cell_type": "markdown",
   "metadata": {
    "id": "fjMwJ_zg7btr"
   },
   "source": [
    "This notebook will cover the following tasks:\n",
    "\n",
    "1. Text Pre-Processing\n",
    "2. Simple Text Analysis"
   ]
  },
  {
   "cell_type": "markdown",
   "metadata": {
    "id": "zqcCFwVV7bts",
    "tags": []
   },
   "source": [
    "## Task 01 – Text Pre-Processing\n",
    "A computational analysis of natural language text typically requires several pre-processing steps, such as excluding irrelevant text parts, separating the text into words, phrases, or sentences depending on the analysis use case, removing so-called stop words, i.e., words that contain little to no semantic meaning, and normalizing the texts, e.g., by removing punctuation and capitalization.\n",
    "\n",
    "Use the *download_file()* function developed in the past assignments to download the plain text versions of Shakespeare’s play [Macbeth](https://ia802707.us.archive.org/1/items/macbeth02264gut/0ws3410.txt) and Bacon’s [New Atlantis](https://ia801309.us.archive.org/24/items/newatlantis02434gut/nwatl10.txt). If you choose not to implement assignment 4, task 6, download the files manually. We will also provide some txt files.\n",
    "\n",
    "Inspect these real-world texts manually to get an idea of what needs to be done to clean and prepare\n",
    "the texts for computational analysis. Implement the following functions to perform common pre-processing steps on the texts:\n",
    "1. *get_speaker_text()* – returns only the text spoken by the characters in the plays and removes all other text in the files, such as:\n",
    "    - Information about the file, acknowledgements, copyright notices etc.\n",
    "    - Headings indicating the act and scene\n",
    "    - Stage instructions\n",
    "    - Character names\n",
    "2. *normalize_text()*\n",
    "    - converts all text to lower case\n",
    "    - removes all punctuation from the texts\n",
    "3. *remove_stopwords()* – eliminates all stop words that are part of the list of English stop words (we provide two lists of stopwords, try both and see how they perform)\n",
    "4. *tokenize_text()* – splits the cleaned text into words\n",
    "\n",
    "This program is a pre-req for the next one."
   ]
  },
  {
   "cell_type": "code",
   "execution_count": 47,
   "metadata": {
    "id": "t5Mz4YP67btt"
   },
   "outputs": [
    {
     "name": "stdout",
     "output_type": "stream",
     "text": [
      "['i', 'me', 'my', 'myself', 'we', 'our', 'ours', 'ourselves', 'you', 'your', 'yours', 'yourself', 'yourselves', 'he', 'him', 'his', 'himself', 'she', 'her', 'hers', 'herself', 'it', 'its', 'itself', 'they', 'them', 'their', 'theirs', 'themselves', 'what', 'which', 'who', 'whom', 'this', 'that', 'these', 'those', 'am', 'is', 'are', 'was', 'were', 'be', 'been', 'being', 'have', 'has', 'had', 'having', 'do', 'does', 'did', 'doing', 'a', 'an', 'the', 'and', 'but', 'if', 'or', 'because', 'as', 'until', 'while', 'of', 'at', 'by', 'for', 'with', 'about', 'against', 'between', 'into', 'through', 'during', 'before', 'after', 'above', 'below', 'to', 'from', 'up', 'down', 'in', 'out', 'on', 'off', 'over', 'under', 'again', 'further', 'then', 'once', 'here', 'there', 'when', 'where', 'why', 'how', 'all', 'any', 'both', 'each', 'few', 'more', 'most', 'other', 'some', 'such', 'no', 'nor', 'not', 'only', 'own', 'same', 'so', 'than', 'too', 'very', 's', 't', 'can', 'will', 'just', 'don', 'should', 'now', 'd', 'll', 'm', 'o', 're', 've', 'y', 'ain', 'aren', 'couldn', 'didn', 'doesn', 'hadn', 'hasn', 'haven', 'isn', 'ma', 'mightn', 'mustn', 'needn', 'shan', 'shouldn', 'wasn', 'weren', 'won', 'wouldn']\n"
     ]
    }
   ],
   "source": [
    "import os\n",
    "from urllib import request\n",
    "from urllib.error import HTTPError, URLError\n",
    "from urllib.request import urlopen\n",
    "\n",
    "\n",
    "path = str(os.getcwd())+ \"/Macbeth.txt\"\n",
    "path2 = str(os.getcwd())+ \"/assignment_05_program_data/eng_stop_words.txt\"\n",
    "\n",
    "\n",
    "def download_file(url, path):\n",
    "    if \".txt\" in url: \n",
    "        r = request.urlretrieve(url, path)\n",
    "        return print(\"Download successfull!\")\n",
    "    else: \n",
    "        return print(\"Download unsuccessfull!\")\n",
    "\n",
    "    \n",
    "def get_speaker_text(path):\n",
    "    '''opens the file and puts all lines in a list''' \n",
    "    with open(path, 'r') as f:\n",
    "            raw_text = f.readlines()\n",
    "    \n",
    "    '''puts all spoken text(everything that is indented or in the lines after indentation) in alist without name of speaker'''\n",
    "    spoken_text = []\n",
    "    counte = 0\n",
    "    for line in raw_text:\n",
    "        if raw_text.index(line) == 2:\n",
    "            counte = 0\n",
    "        elif line.startswith('  '):\n",
    "            counte = 1\n",
    "            splited_line=line.split('.')\n",
    "            spoken_text.append(''.join(splited_line[1:]))\n",
    "        elif counte == 1:\n",
    "            spoken_text.append(line)\n",
    "        else:\n",
    "            continue\n",
    "                \n",
    "    '''puts all lines after the start_index in a list '''\n",
    "    drama_text = []    \n",
    "    start_index = spoken_text.index(' When shall we three meet againe?\\n')   \n",
    "    for line in spoken_text:\n",
    "        if spoken_text.index(line) >= start_index:\n",
    "            drama_text.append(line)\n",
    "           \n",
    "    '''puts all lines without brackets in a list '''        \n",
    "    speaker_text = []\n",
    "    counter = 0\n",
    "    for line in drama_text:\n",
    "        if counter == 1 and not ')'in line:\n",
    "            continue \n",
    "            \n",
    "        elif '('in line and ')'in line:\n",
    "            words_in_line=line.split()\n",
    "            conter = 0\n",
    "            words =[]\n",
    "            for word in words_in_line:\n",
    "                if conter ==1 and ')' not in word:\n",
    "                    continue\n",
    "                elif '(' in word:\n",
    "                    conter=1\n",
    "                elif ')' in word:\n",
    "                    conter=0    \n",
    "                else:\n",
    "                    words.append(word)\n",
    "            words.append('\\n')        \n",
    "            speaker_text.append(' '.join(words)) \n",
    "            \n",
    "        elif '(' in line:\n",
    "            counter = 1\n",
    "            words_in_line=line.split()\n",
    "            conter = 0\n",
    "            words =[]\n",
    "            for word in words_in_line:\n",
    "                if '(' in word:\n",
    "                    conter=1\n",
    "                elif conter ==1:\n",
    "                    continue\n",
    "                else:\n",
    "                    words.append(word)        \n",
    "            speaker_text.append(' '.join(words))\n",
    "                        \n",
    "        elif ')' in line:\n",
    "            counter = 0\n",
    "            words_in_line=line.split()\n",
    "            conter = 1\n",
    "            words =[]\n",
    "            for word in words_in_line:\n",
    "                if ')' in word:\n",
    "                    conter=0\n",
    "                elif conter ==1:\n",
    "                    continue\n",
    "                else:\n",
    "                    words.append(word)\n",
    "            words.append('\\n')         \n",
    "            speaker_text.append(' '.join(words))\n",
    "        else:\n",
    "            speaker_text.append(line)  \n",
    "    return speaker_text\n",
    "\n",
    "def normalize_text(input_text):\n",
    "    normalized_text=[]\n",
    "    for line in input_text:\n",
    "        lower_case_line = line.lower()\n",
    "        lower_case_line = lower_case_line.replace(',', '')\n",
    "        lower_case_line = lower_case_line.replace('.', '')\n",
    "        lower_case_line = lower_case_line.replace('?', '')\n",
    "        lower_case_line = lower_case_line.replace('!', '')\n",
    "        lower_case_line = lower_case_line.replace(':', '')\n",
    "        lower_case_line = lower_case_line.replace('\\'', ' ')\n",
    "        lower_case_line = lower_case_line.replace('\\n', '')\n",
    "        normalized_text.append(lower_case_line)\n",
    "    return normalized_text\n",
    "\n",
    "def remove_stopwords(input_text):\n",
    "    clear_text =[]\n",
    "    stop_word_list=[]\n",
    "    stop_word_clear=[]\n",
    "    with open(path2, 'r') as f:\n",
    "            stop_words = f.readlines()   \n",
    "    for line in stop_words:\n",
    "        stop_word_list.append(line)\n",
    "    for line in stop_word_list:    \n",
    "        clear_line=line.replace('\\n','')\n",
    "        stop_word_clear.append(clear_line)\n",
    "        \n",
    "    for line in input_text:\n",
    "        word_list = line.split()\n",
    "        clear_text.append(word_list)\n",
    "    \n",
    "        \n",
    "        \n",
    "    print  \n",
    "    return clear_text    \n",
    "    \n",
    "#download_file(\"https://ia802707.us.archive.org/1/items/macbeth02264gut/0ws3410.txt\", path)\n",
    "speaker_text=get_speaker_text(path)\n",
    "normalized_text=normalize_text(speaker_text)\n",
    "clear_text=remove_stopwords(normalized_text)\n",
    "#print(normalized_text)"
   ]
  },
  {
   "cell_type": "markdown",
   "metadata": {
    "id": "vcpnC_hq7btu"
   },
   "source": [
    "## Task 02 – Classes\n",
    "The [Baconian theory](https://en.wikipedia.org/wiki/Baconian_theory_of_Shakespeare_authorship) holds that Sir Francis Bacon is the author of Shakespeare’s plays. We want to perform a very simple stylistic analysis between Shakespeare’s play Macbeth and Bacon’s New Atlantis. We check for words that frequently occur in both documents to see whether there are characteristic words that co-occur in the texts, which might give some support to the theory.\n",
    "\n",
    "Your Task:\n",
    "1. Download and pre-process the texts as follows:  \n",
    "  New Atlantis\n",
    "    1. *get_speaker_text()*\n",
    "    2. *normalize_text()*\n",
    "    3. *remove_stopwords()*\n",
    "    4. *tokenize_text()*   \n",
    "  \n",
    " Macbeth\n",
    "    1. *get_speaker_text()*\n",
    "    2. *normalize_text()*\n",
    "        1. *utils_ocr.correct_ocr_errors()* – we will provide a function to deal with OCR errors.\n",
    "    3. *remove_stopwords()*\n",
    "    4. *tokenize_text()*\n",
    "2. For the pre-processed texts, compute the list of word co-occurrence frequencies, i.e. which words occur in both documents and how often. Use the format:  \n",
    "[term , frequency_doc1 , frequency_doc2 , sum_of_frequencies]  \n",
    "Sort the list according to the sum of the frequencies in descending order.\n",
    "3. Use the csv library to store the ordered word co-occurrence frequency list in a CSV file. **You can zip the csv and upload it to GitHub.**"
   ]
  },
  {
   "cell_type": "code",
   "execution_count": null,
   "metadata": {
    "id": "LPkEibMM7btu"
   },
   "outputs": [],
   "source": []
  }
 ],
 "metadata": {
  "colab": {
   "provenance": []
  },
  "kernelspec": {
   "display_name": "Python 3 (ipykernel)",
   "language": "python",
   "name": "python3"
  },
  "language_info": {
   "codemirror_mode": {
    "name": "ipython",
    "version": 3
   },
   "file_extension": ".py",
   "mimetype": "text/x-python",
   "name": "python",
   "nbconvert_exporter": "python",
   "pygments_lexer": "ipython3",
   "version": "3.8.2"
  }
 },
 "nbformat": 4,
 "nbformat_minor": 4
}
