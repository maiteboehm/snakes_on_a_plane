{
 "cells": [
  {
   "cell_type": "markdown",
   "metadata": {
    "id": "LZgQdr4W6iKz"
   },
   "source": [
    "# Assignment 01\n",
    "##### Python Basics I\n",
    "\n",
    "This tutorial was written by Terry Ruas (University of Göttingen). The references for external contributors for which this material was anyhow adapted/inspired are in the Acknowledgments section (end of the document).\n"
   ]
  },
  {
   "cell_type": "markdown",
   "metadata": {
    "id": "4GPUv_8U6iK1"
   },
   "source": [
    "## Task 01 – Hello World!\n",
    "Write a simple program that asks the user to input a name and outputs a simple greeting, such as ‘Hi Name! Nice to meet you!’ and in the other line, ‘Welcome to the Programing Course!’. \n",
    "\n",
    "*Hint: Check out the input () and print() function in Python.* "
   ]
  },
  {
   "cell_type": "code",
   "execution_count": 4,
   "metadata": {
    "id": "xt3XV0YD6iK2"
   },
   "outputs": [
    {
     "name": "stdout",
     "output_type": "stream",
     "text": [
      "Hello, what is your name?\n"
     ]
    },
    {
     "name": "stdin",
     "output_type": "stream",
     "text": [
      " Marcel \n"
     ]
    },
    {
     "name": "stdout",
     "output_type": "stream",
     "text": [
      "Hey Marcel , nice to meet you!\n"
     ]
    }
   ],
   "source": [
    "print('Hello, what is your name?')\n",
    "Name = input()\n",
    "print('Hey '+str(Name)+', nice to meet you!')"
   ]
  },
  {
   "cell_type": "markdown",
   "metadata": {
    "id": "_Jz4T4AQ6iK3",
    "tags": []
   },
   "source": [
    "## Task 02 – Reversed Words\n",
    "Write a program that reads in a word provided by the user and prints the word in a reversed order. For example, if the input is hello, the output should be ‘olleh’. \n",
    "\n",
    "- Use a loop structure \n",
    "- Use just array indexes \n"
   ]
  },
  {
   "cell_type": "code",
   "execution_count": 22,
   "metadata": {
    "id": "aKLGcZ0_6iK3"
   },
   "outputs": [
    {
     "name": "stdin",
     "output_type": "stream",
     "text": [
      " Marcel\n"
     ]
    },
    {
     "name": "stdout",
     "output_type": "stream",
     "text": [
      "lecraM\n"
     ]
    }
   ],
   "source": [
    "import numpy as np\n",
    "input_word = input()\n",
    "word_list = []\n",
    "for i in range(len(input_word)):\n",
    "    word_list.append(input_word[len(input_word) - i -1])\n",
    "\n",
    "word_array= np.array(word_list)\n",
    "print(''.join(word_array))"
   ]
  },
  {
   "cell_type": "markdown",
   "metadata": {
    "id": "PalhJ9x36iK4"
   },
   "source": [
    "## Task 03 –  Fibonacci Numbers\n",
    "Write a program that reads in an upper bound (number) provided by the user and prints the sequence of Fibonacci numbers that are less or equal to the number given by the user. Use a while-loop for this task. \n",
    "\n",
    "The Fibonacci sequence is defined as \n",
    "$ F_{n}=F_{n−1}+F_{n−2}$. Use $F_{0}=0$ and $F_{1} = 1$ as seed values.  \n",
    "\n",
    "For example, if the user inputs 6, the output should be 0, 1, 1, 2, 3, 5. \n",
    "\n",
    "\n",
    "\n"
   ]
  },
  {
   "cell_type": "code",
   "execution_count": 28,
   "metadata": {
    "id": "vm5UlcKB6iK4"
   },
   "outputs": [
    {
     "name": "stdout",
     "output_type": "stream",
     "text": [
      "insert a number\n"
     ]
    },
    {
     "name": "stdin",
     "output_type": "stream",
     "text": [
      " 767\n"
     ]
    },
    {
     "name": "stdout",
     "output_type": "stream",
     "text": [
      "[0, 1, 1, 2, 3, 5, 8, 13, 21, 34, 55, 89, 144, 233, 377, 610]\n"
     ]
    }
   ],
   "source": [
    "print('insert a number')\n",
    "x = input()\n",
    "y = [0,1]\n",
    "while y[-1]<int(x):\n",
    "     y.append(y[-1]+y[-2])\n",
    "if int(x)< y[-1]:\n",
    "    del y[-1]\n",
    "\n",
    "print(y)   \n"
   ]
  },
  {
   "cell_type": "markdown",
   "metadata": {
    "id": "JV1Mm9qA6iK5"
   },
   "source": [
    "## Task 04 – Selective Printing \n",
    "\n",
    "Write a program that reads in an upper bound (number) provided by the user and prints all integer numbers that are less or equal to the upper bound except the integer numbers that are divisible by 3. Use the continue statement. For example, if the user enters 6 as the upper bound, the output should be 0, 1, 2, 4, 5.  "
   ]
  },
  {
   "cell_type": "code",
   "execution_count": 34,
   "metadata": {
    "id": "C3i7ctus6iK6"
   },
   "outputs": [
    {
     "name": "stdout",
     "output_type": "stream",
     "text": [
      "insert a number\n"
     ]
    },
    {
     "name": "stdin",
     "output_type": "stream",
     "text": [
      " 99\n"
     ]
    },
    {
     "name": "stdout",
     "output_type": "stream",
     "text": [
      "[0, 1, 2, 4, 5, 7, 8, 10, 11, 13, 14, 16, 17, 19, 20, 22, 23, 25, 26, 28, 29, 31, 32, 34, 35, 37, 38, 40, 41, 43, 44, 46, 47, 49, 50, 52, 53, 55, 56, 58, 59, 61, 62, 64, 65, 67, 68, 70, 71, 73, 74, 76, 77, 79, 80, 82, 83, 85, 86, 88, 89, 91, 92, 94, 95, 97, 98]\n"
     ]
    }
   ],
   "source": [
    "print('insert a number')\n",
    "x = input()\n",
    "y = [0]\n",
    "z = [0]\n",
    "while y[-1] < int(x):\n",
    "    y.append(y[-1]+1)\n",
    "for i in range(len(y)):\n",
    "    if i%3==0:\n",
    "        continue\n",
    "    else:\n",
    "        z.append(i) \n",
    "print(z)    \n",
    "    "
   ]
  },
  {
   "cell_type": "markdown",
   "metadata": {
    "id": "qz4P36Lz6iK6"
   },
   "source": [
    "## Task 05 – Triangle Checking   \n",
    "\n",
    "Write a Python program that asks the user to input the lengths of the sides in a triangle and outputs whether the triangle is equilateral, isosceles, or scalene. The program should also check for the Triangle inequality $(z < x + y)$,  and prompt the user for a valid input. \n",
    "\n",
    "- An equilateral triangle is a triangle in which all three sides are of equal length. \n",
    "- An isosceles triangle is a triangle with (at least) two sides of equal length. \n",
    "- A scalene triangle is a triangle in which all three sides have different lengths. \n",
    "\n",
    "For example, if the user inputs a=3, b=4, c=5, the triangle is scalene. \n"
   ]
  },
  {
   "cell_type": "code",
   "execution_count": 39,
   "metadata": {
    "id": "2c67p_Zc6iK7"
   },
   "outputs": [
    {
     "name": "stdout",
     "output_type": "stream",
     "text": [
      "insert lenght a\n"
     ]
    },
    {
     "name": "stdin",
     "output_type": "stream",
     "text": [
      " 4\n"
     ]
    },
    {
     "name": "stdout",
     "output_type": "stream",
     "text": [
      "insert lenght b\n"
     ]
    },
    {
     "name": "stdin",
     "output_type": "stream",
     "text": [
      " 5\n"
     ]
    },
    {
     "name": "stdout",
     "output_type": "stream",
     "text": [
      "insert lenght c\n"
     ]
    },
    {
     "name": "stdin",
     "output_type": "stream",
     "text": [
      " 6\n"
     ]
    },
    {
     "name": "stdout",
     "output_type": "stream",
     "text": [
      "scalene triangle\n"
     ]
    }
   ],
   "source": [
    "sides=[]\n",
    "print('insert lenght a')\n",
    "a = int(input())\n",
    "sides.append(a)\n",
    "print('insert lenght b')\n",
    "b = int(input())\n",
    "sides.append(b)\n",
    "print('insert lenght c')\n",
    "c = int(input())\n",
    "sides.append(c)\n",
    "sides.sort()\n",
    "\n",
    "if sides[-1]<sides[0]+sides[1]:\n",
    "    if sides[0]== sides[1]:\n",
    "        if sides[1]==sides[2]:\n",
    "            print('equilateral triangle')\n",
    "        else:\n",
    "            print('isosceles triangle')\n",
    "    else:\n",
    "        if sides[1]==sides[2]:\n",
    "            print('isosceles triangle')\n",
    "        else:\n",
    "            print('scalene triangle')\n",
    "else:\n",
    "    print('Please insert new side lengths, input not valid!')\n",
    "    "
   ]
  },
  {
   "cell_type": "markdown",
   "metadata": {
    "id": "k1kh3odh6iK7"
   },
   "source": [
    "## Task 06 – Decimal to Octal Conversion \n",
    "\n",
    "Write a program that reads a non-negative integer number in the decimal representation provided by the user and prints the octal representation of the number. For example, if the user enters 167, the output should be 247.  \n",
    "\n",
    "Write a more general program that reads in a non-negative number (potentially including decimal places) in the decimal representation provided by the user and prints the octal representation of the number. For example, if the user enters 25.11, the output should be 31.0702436560507534. "
   ]
  },
  {
   "cell_type": "code",
   "execution_count": 66,
   "metadata": {
    "id": "2-UCbTRQ6iK7"
   },
   "outputs": [
    {
     "name": "stdout",
     "output_type": "stream",
     "text": [
      "please insert number\n"
     ]
    },
    {
     "name": "stdin",
     "output_type": "stream",
     "text": [
      " 167\n"
     ]
    },
    {
     "name": "stdout",
     "output_type": "stream",
     "text": [
      "[2, 4, 7]\n"
     ]
    }
   ],
   "source": [
    "print('please insert number')\n",
    "a = int(input())\n",
    "liste =[]\n",
    "while a!= 0:\n",
    "    liste.append(a % 8)\n",
    "    a = int(a/8)\n",
    "liste.reverse()\n",
    "print(liste)"
   ]
  },
  {
   "cell_type": "code",
   "execution_count": 10,
   "metadata": {},
   "outputs": [
    {
     "name": "stdout",
     "output_type": "stream",
     "text": [
      "please insert number\n"
     ]
    },
    {
     "name": "stdin",
     "output_type": "stream",
     "text": [
      " 25.11\n"
     ]
    },
    {
     "name": "stdout",
     "output_type": "stream",
     "text": [
      "31.070314631463145\n"
     ]
    }
   ],
   "source": [
    "print('please insert number')\n",
    "a, b = str(input()).split(\".\")\n",
    "a= int(a)\n",
    "b= float('0.'+b)\n",
    "\n",
    "liste =[]\n",
    "output =[]\n",
    "while a!= 0:\n",
    "    liste.append(str(a % 8))\n",
    "    a = int(a/8)\n",
    "    \n",
    "for i in range(20):\n",
    "    c, d= str(b*8).split('.')\n",
    "    b = float(float(d)/10)\n",
    "    output.append(c)\n",
    "liste.reverse()\n",
    "print(float(''.join(liste)+ '.' +''.join(output))) "
   ]
  },
  {
   "cell_type": "markdown",
   "metadata": {
    "id": "Wl9JCEYM6iK-"
   },
   "source": [
    "## Acknowledgements\n",
    "\n",
    "Redmond, Hsu, Saini, Gupta, Ramsey, Kondrich, Capoor, Cohen, Borus, Kincaid, Malik, and many others. - Stanford CS41"
   ]
  },
  {
   "cell_type": "code",
   "execution_count": null,
   "metadata": {
    "id": "Bx-WQj4v6iK-"
   },
   "outputs": [],
   "source": []
  }
 ],
 "metadata": {
  "colab": {
   "collapsed_sections": [],
   "provenance": []
  },
  "kernelspec": {
   "display_name": "Python 3 (ipykernel)",
   "language": "python",
   "name": "python3"
  },
  "language_info": {
   "codemirror_mode": {
    "name": "ipython",
    "version": 3
   },
   "file_extension": ".py",
   "mimetype": "text/x-python",
   "name": "python",
   "nbconvert_exporter": "python",
   "pygments_lexer": "ipython3",
   "version": "3.8.2"
  }
 },
 "nbformat": 4,
 "nbformat_minor": 4
}
