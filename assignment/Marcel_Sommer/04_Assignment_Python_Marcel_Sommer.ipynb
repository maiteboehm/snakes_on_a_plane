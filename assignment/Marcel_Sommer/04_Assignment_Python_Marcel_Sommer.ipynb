{
 "cells": [
  {
   "cell_type": "markdown",
   "metadata": {
    "id": "_ikvQGPR7a99"
   },
   "source": [
    "# Assignment 04\n",
    "#### Python Basics IV - Functions, Unity Testing, and Logging\n",
    "\n",
    "This tutorial was written by Terry L. Ruas (University of Göttingen). The references for external contributors for which this material was anyhow adapted/inspired are in the Acknowledgments section (end of the document)."
   ]
  },
  {
   "cell_type": "markdown",
   "metadata": {
    "id": "SchiSV187a9-"
   },
   "source": [
    "This notebook will cover the following tasks:\n",
    "\n",
    "1. Lambda functions\n",
    "2. List comprehensions\n",
    "3. Unity Test\n",
    "4. HTTP Request\n",
    "5. Logging\n",
    "6. Download File"
   ]
  },
  {
   "cell_type": "markdown",
   "metadata": {
    "id": "QOoNCxgu7a-A"
   },
   "source": [
    "## Task 01 – Lambda functions\n",
    "Python supports lambda functions as a handy way to define small, anonymous, i.e., unnamed, functions inline. The basic syntax for lambda functions is:\n",
    "$$\n",
    " \\textbf{lambda}\\text{ parameter1, parameter2, ... : }\\textbf{expression}\n",
    "$$\n",
    "Use a lambda function only to retain the even values in an array of integers. Test your function with an input array of your choosing. Print the input array and the filtered output array to stdout."
   ]
  },
  {
   "cell_type": "code",
   "execution_count": null,
   "metadata": {
    "id": "5keoJAOw7a-B"
   },
   "outputs": [],
   "source": [
    "import numpy as np\n",
    "\n",
    "arry_of_numbers = np.array([1,2,3,4,5,6,7,8,9,10])\n",
    "output_array = np.array(list(filter(lambda a: a%2==0, list_of_numbers)))\n",
    "print(output_array)        \n",
    "        "
   ]
  },
  {
   "cell_type": "markdown",
   "metadata": {
    "id": "XSyLzHT17a-B"
   },
   "source": [
    "## Task 02 – List comprehensions\n",
    "Python supports list comprehension. The basic syntax of list comprehensions is:\n",
    "$$\n",
    "\\text{L = [<elem> for <elem> <Condition>]}\n",
    "$$\n",
    "Use list comprehensions to write a Python function *remove_long_words()* that:\n",
    "- accepts a sentence s and an integer n as input parameters\n",
    "- uses the *split()* function of String objects to split the sentence into words\n",
    "- stores the individual words in a list\n",
    "- removes all words that are longer than n characters from the list, thereby creating a new list\n",
    "- prints the list to stdout"
   ]
  },
  {
   "cell_type": "code",
   "execution_count": null,
   "metadata": {
    "id": "hT-mGe_T7a-B"
   },
   "outputs": [],
   "source": [
    "s = 'We wish you a merry christmas and a happy new year'\n",
    "n = 4\n",
    "list_of_words = s.split()\n",
    "output_list= [a for a in list_of_words if len(a)<n]\n",
    "print(output_list)\n"
   ]
  },
  {
   "cell_type": "markdown",
   "metadata": {
    "id": "_QHEBddh7a-C"
   },
   "source": [
    "## Task 03 – Unity Test\n",
    "The following algorithm in Python converts numbers in decimal representation to binary.\n",
    "1. Develop a unit test that checks for values in the interval \\[-1,3\\] whether the algorithm returns the\n",
    "expected results.\n",
    "2. Adjust the algorithm, so it passes the unit test developed in 1). Rename the function to\n",
    "*decimal_to_binary_correct()*"
   ]
  },
  {
   "cell_type": "code",
   "execution_count": null,
   "metadata": {
    "id": "IdFKIU4u7a-C"
   },
   "outputs": [],
   "source": [
    "import math\n",
    "import unittest\n",
    "\n",
    "\n",
    "def decimal2binary(n):\n",
    "    # function to convert decimal integers to binary\n",
    "    x = []\n",
    "    while n > 0:\n",
    "        x.append(n % 2)\n",
    "        n = math.floor(n/2)\n",
    "    return x[::-1]\n",
    "\n",
    "def decimal_to_binary_correct(n):\n",
    "    # function to convert decimal integers to binary\n",
    "    y = []\n",
    "    if n > 0:\n",
    "        while n > 0:\n",
    "            y.append(n % 2)\n",
    "            n = math.floor(n/2)\n",
    "    elif n == 0:\n",
    "        y=[0, 0, 0, 0]\n",
    "    else:\n",
    "        while abs(n) > 0:\n",
    "            y.append(abs(n) % 2)\n",
    "            n = math.floor(abs(n)/2)\n",
    "        while len(y) < 4:\n",
    "            y.append(0)\n",
    "        y.append(1)\n",
    "    return y[::-1]\n",
    "\n",
    "\n",
    "\n",
    "class Unit_test(unittest.TestCase):\n",
    "    \"\"\"Tests for 'decimal2binary'.\"\"\"\n",
    "\n",
    "    def test_minus_one(self):\n",
    "        decimal = decimal_to_binary_correct(-1)\n",
    "        self.assertEqual(decimal,[1, 0, 0, 1])\n",
    "\n",
    "    def test_zero(self):\n",
    "        decimal = decimal_to_binary_correct(0)\n",
    "        self.assertEqual(decimal, [0, 0, 0, 0])\n",
    "\n",
    "    def test_one(self):\n",
    "        decimal = decimal_to_binary_correct(1)\n",
    "        self.assertEqual(decimal, [1])\n",
    "\n",
    "    def test_two(self):\n",
    "        decimal = decimal_to_binary_correct(2)\n",
    "        self.assertEqual(decimal, [1, 0])\n",
    "\n",
    "    def test_three(self):\n",
    "        decimal = decimal_to_binary_correct(3)\n",
    "        self.assertEqual(decimal, [1, 1])\n",
    "\n",
    "if __name__ == '__main__':\n",
    "    unittest.main()"
   ]
  },
  {
   "cell_type": "code",
   "execution_count": null,
   "metadata": {
    "id": "McO91gqP7a-D"
   },
   "outputs": [],
   "source": []
  },
  {
   "cell_type": "markdown",
   "metadata": {
    "id": "iNLOQ5y47a-E"
   },
   "source": [
    "## Task 04 – HTTP Request\n",
    "Working with HTTP connections is essential for many data gathering tasks. The Python library *urllib* provides all functionality we need.\n",
    "Write a Python function *open_url(url)* that:\n",
    "- uses urllib to establish a HTTP connection to an arbitrary website\n",
    "- retrieves and prints the first 200 characters of the html resource, i.e. the html source code, of the chosen website\n",
    "- handles the exceptions thrown by the *urllib.request* function\n",
    "\n",
    "FYI: The basic syntax for exception handling in Python is as follows:\n",
    "```\n",
    "try:\n",
    "    ...\n",
    "    return ...\n",
    "except SomeError1 as e:\n",
    "    # error-specific exception handling\n",
    "except SomeError2 as e:\n",
    "    # error-specific exception handling\n",
    "except\n",
    "    # general exception handling\n",
    "```"
   ]
  },
  {
   "cell_type": "code",
   "execution_count": 16,
   "metadata": {
    "id": "NaCXxVlB7a-E"
   },
   "outputs": [
    {
     "name": "stdout",
     "output_type": "stream",
     "text": [
      "b'<!doctype html><html itemscope=\"\" itemtype=\"http://schema.org/WebPage\" lang=\"de\"><head><meta content=\"text/html; charset=UTF-8\" http-equiv=\"Content-Type\"><meta content=\"/images/branding/googleg/1x/goog'\n"
     ]
    }
   ],
   "source": [
    "from urllib.error import HTTPError, URLError\n",
    "from urllib.request import urlopen\n",
    "\n",
    "def request_website(url):\n",
    "    try:\n",
    "        with urlopen(url, timeout=10) as response:\n",
    "            body = response.read()\n",
    "            return response.read(), response, body\n",
    "    except HTTPError as error:\n",
    "        print(error.status, error.reason)\n",
    "    except URLError as error:\n",
    "        print(error.reason)\n",
    "    except TimeoutError:\n",
    "        print(\"Timeouted\")\n",
    "\n",
    "request_website(\"https://www.google.de/\")        \n",
    "print(body[:201])"
   ]
  },
  {
   "cell_type": "markdown",
   "metadata": {
    "id": "ogac-RcI7a-F"
   },
   "source": [
    "## Task 05 – Logging\n",
    "The logging module in Python provides functionality for logging and debugging purposes. Use the logging module to extend the error handling for the function that you implemented to establish a HTTP connection (Task 4). All exceptions thrown by your function shall be logged as errors.\n",
    "\n",
    "To accomplish the task:\n",
    "- write a Python function *init_log(file_name, file_mode, level, format, date_format)* that initializes a custom log file to which all debugging information and errors are appended using a format that includes the date, time, level and the message of the logging event\n",
    "- log occurring errors by calling *logging.error(...)*\n",
    "- close the log after completing your task by calling *logging.shutdown()*\n",
    "\n",
    "If you choose not to complete Tasks 4, test the logging functionality with a few examples of your own."
   ]
  },
  {
   "cell_type": "code",
   "execution_count": null,
   "metadata": {
    "id": "hT8RvjYU7a-F"
   },
   "outputs": [],
   "source": []
  },
  {
   "cell_type": "markdown",
   "metadata": {
    "id": "FFvlZPUc7a-G"
   },
   "source": [
    "## Task 06 – Download File\n",
    "In Task 4, you used the *urllib* library to establish a http connection. You can also use the *urllib* library to perform simple file downloads.\n",
    "\n",
    "Write a Python function *download_file(url, path)* that:\n",
    "- checks whether the input URL points to a .txt file\n",
    "- if the input URL points to a .txt file, uses the *urllib* library to download and write the text file to the given path on your machine\n",
    "- logs an error “No text file found at given URL, download aborted!” to the log file created in Task 5 if the input URL does not point to a .txt file.\n",
    "- properly handles exceptions\n",
    "\n",
    "Use the *download_file()* function to download William Shakespeare’s drama Macbeth as a plain\n",
    "text file from: [Macbeth](https://ia802707.us.archive.org/1/items/macbeth02264gut/0ws3410.txt)"
   ]
  },
  {
   "cell_type": "code",
   "execution_count": 22,
   "metadata": {
    "id": "3L-DwhcZ7a-G"
   },
   "outputs": [
    {
     "name": "stdout",
     "output_type": "stream",
     "text": [
      "Download successfully!\n"
     ]
    }
   ],
   "source": [
    "import os\n",
    "def download_file(url, path):\n",
    "    if \".txt\" in url: \n",
    "        r = request.urlretrieve(url, path)\n",
    "        return print(\"Download successfully!\")\n",
    "    else: \n",
    "        return print(\"Download unsuccessfully!\")\n",
    "path = str(os.getcwd())+ \"/Macbeth.txt\"\n",
    "download_file(\"https://ia802707.us.archive.org/1/items/macbeth02264gut/0ws3410.txt\", path)"
   ]
  }
 ],
 "metadata": {
  "colab": {
   "provenance": []
  },
  "kernelspec": {
   "display_name": "Python 3 (ipykernel)",
   "language": "python",
   "name": "python3"
  },
  "language_info": {
   "codemirror_mode": {
    "name": "ipython",
    "version": 3
   },
   "file_extension": ".py",
   "mimetype": "text/x-python",
   "name": "python",
   "nbconvert_exporter": "python",
   "pygments_lexer": "ipython3",
   "version": "3.8.2"
  }
 },
 "nbformat": 4,
 "nbformat_minor": 4
}
