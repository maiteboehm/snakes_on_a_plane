{
 "cells": [
  {
   "cell_type": "markdown",
   "metadata": {
    "id": "LZgQdr4W6iKz"
   },
   "source": [
    "# Assignment 02\n",
    "##### Python Basics II\n",
    "\n",
    "This tutorial was written by Terry Ruas (University of Göttingen); The references for external contributors for which this material was anyhow adapted/inspired are in the Acknowledgments section (end of the document).\n"
   ]
  },
  {
   "cell_type": "markdown",
   "metadata": {
    "id": "Yvektzz_6iK1"
   },
   "source": [
    "This notebook will cover the following tasks:\n",
    "\n",
    "1. String Length\n",
    "2. Largest List Element\n",
    "3. Character Frequency\n",
    "4. Sorted List of Tuples\n",
    "5. Check Brackets\n",
    "6. Check Brackets II\n",
    "7. Queue\n",
    "8. Unlimited Power\n",
    "9. Unlimited Power II"
   ]
  },
  {
   "cell_type": "markdown",
   "metadata": {
    "id": "4GPUv_8U6iK1"
   },
   "source": [
    "## Task 01 – String Length\n",
    "Write a program that reads in a string and prints the length of the input string. Do not use any built-in functions of Python, such as len().\n",
    "For example, if the input is “Computer Science”, the output should be length: 16."
   ]
  },
  {
   "cell_type": "code",
   "execution_count": 2,
   "metadata": {
    "id": "xt3XV0YD6iK2"
   },
   "outputs": [
    {
     "name": "stdout",
     "output_type": "stream",
     "text": [
      "insert a number\n"
     ]
    },
    {
     "name": "stdin",
     "output_type": "stream",
     "text": [
      " bkashdöä\n"
     ]
    },
    {
     "name": "stdout",
     "output_type": "stream",
     "text": [
      "length of Input8\n"
     ]
    }
   ],
   "source": [
    "print('Insert a Input')\n",
    "x = input()\n",
    "counter = 0\n",
    "for i in x: \n",
    "        counter = counter +1\n",
    "\n",
    "print('Length of Input '+ str(counter))\n"
   ]
  },
  {
   "cell_type": "markdown",
   "metadata": {
    "id": "_Jz4T4AQ6iK3"
   },
   "source": [
    "## Task 02 – Largest List Element\n",
    "Write a program that generates a list of 10 random integers between 1 and 100 and then finds and prints the largest element in the list. Do not use the built-in function max().\n",
    "For example, if the input is [23,3,42,29,12,15,8,4,37,34], the output should be the largest element: 42.\n",
    "\n",
    "Hint: Check out the module [random](https://docs.python.org/3.7/library/random.html)."
   ]
  },
  {
   "cell_type": "code",
   "execution_count": 24,
   "metadata": {
    "id": "aKLGcZ0_6iK3"
   },
   "outputs": [
    {
     "name": "stdout",
     "output_type": "stream",
     "text": [
      "[46, 18, 83, 33, 52, 82, 74, 51, 45, 82]\n",
      "83\n"
     ]
    }
   ],
   "source": [
    "import random\n",
    "\n",
    "Liste=[]\n",
    "largest_number= 0\n",
    "while len(Liste)<10: \n",
    "        Liste.append(random.randrange(100))\n",
    "for i in Liste:\n",
    "    if i > largest_number: \n",
    "        largest_number = i\n",
    "    else:\n",
    "        continue\n",
    "\n",
    "print(Liste)    \n",
    "print(largest_number)\n"
   ]
  },
  {
   "cell_type": "markdown",
   "metadata": {
    "id": "PalhJ9x36iK4"
   },
   "source": [
    "## Task 03 – Character Frequency\n",
    "Write a program that:\n",
    "* Reads in a string and removes any spaces from the string\n",
    "* Counts how often individual characters occur in the string\n",
    "* Stores the information on character occurrence frequency in a dictionary\n",
    "* Prints the dictionary.\n",
    "\n",
    "For example, if the input is “santa claus”, the output should be:\n",
    "{'s': 2, 'a': 3, 'n': 1, 't': 1, 'c': 1, 'l': 1, 'u': 1}."
   ]
  },
  {
   "cell_type": "code",
   "execution_count": 1,
   "metadata": {
    "id": "vm5UlcKB6iK4"
   },
   "outputs": [
    {
     "name": "stdout",
     "output_type": "stream",
     "text": [
      "insert Input\n"
     ]
    },
    {
     "name": "stdin",
     "output_type": "stream",
     "text": [
      " santa clause\n"
     ]
    },
    {
     "name": "stdout",
     "output_type": "stream",
     "text": [
      "{'e', 'l', 'a', 's', 'n', 'u', 't', 'c'}\n",
      "{'e': 1, 'l': 1, 'a': 3, 's': 2, 'n': 1, 'u': 1, 't': 1, 'c': 1}\n"
     ]
    }
   ],
   "source": [
    "import random\n",
    "\n",
    "print('insert Input')\n",
    "random = input()\n",
    "characters = []\n",
    "\n",
    "for i in random: \n",
    "    if i == ' ': \n",
    "        continue\n",
    "    else: \n",
    "        characters.append(i)\n",
    "key = set(characters)\n",
    "output= dict.fromkeys(key, 0)\n",
    "\n",
    "for character in random:\n",
    "    for i in key:\n",
    "        if character == i:\n",
    "            output[i] = int(output[i]+1)\n",
    "        else:\n",
    "            continue\n",
    "            \n",
    "print(key)\n",
    "print(output)\n",
    "\n",
    "\n",
    "\n",
    "    \n",
    "       "
   ]
  },
  {
   "cell_type": "markdown",
   "metadata": {
    "id": "JV1Mm9qA6iK5"
   },
   "source": [
    "## Task 04 – Sorted List of Tuples\n",
    "Write a program that:\n",
    "* Generates a list of 10 tuples, each tuple consisting of 3 random integers between 1 and 100\n",
    "* Sorts the list of tuples in increasing order of the third element in each tuple\n",
    "* Prints the sorted list of tuples\n",
    "\n",
    "For example, if the generated input list is: [(56, 77, 69), (43, 30, 38), (2, 77, 101), (93, 57, 4), (74, 21, 77), (39, 68, 68), (65, 53, 96), (16, 29, 88), (88, 70, 38)]\n",
    "The output should be: [(93, 57, 4), (43, 30, 38), (88, 70, 38), (39, 68, 68), (56, 77, 69), (74, 21, 77), (16, 29, 88), (65, 53, 96), (2, 77, 101)]\n",
    "\n",
    "Hint: You are allowed and encouraged to use built-in functions, such as [sorted()](https://docs.python.org/3.7/library/functions.html?highlight=sorted#sorted), for this task."
   ]
  },
  {
   "cell_type": "code",
   "execution_count": 16,
   "metadata": {
    "id": "C3i7ctus6iK6"
   },
   "outputs": [
    {
     "name": "stdout",
     "output_type": "stream",
     "text": [
      "[(29, 29, 88), (96, 99, 70), (50, 6, 28), (96, 71, 17), (52, 63, 44), (87, 0, 96), (75, 2, 9), (27, 16, 42), (14, 44, 25), (17, 19, 78)]\n",
      "[(75, 2, 9), (96, 71, 17), (14, 44, 25), (50, 6, 28), (27, 16, 42), (52, 63, 44), (96, 99, 70), (17, 19, 78), (29, 29, 88), (87, 0, 96)]\n"
     ]
    }
   ],
   "source": [
    "import random\n",
    "\n",
    "Tuple_list = []\n",
    "for i in range(10):\n",
    "    Tuple = []\n",
    "    for j in range(3):\n",
    "        n = random.randrange(100)\n",
    "        Tuple.append(int(n))\n",
    "        if j == 2: \n",
    "            Small_Tuple = tuple(Tuple)\n",
    "            Tuple_list.append(Small_Tuple)\n",
    "\n",
    "Tuple_list_sorted = sorted(Tuple_list, key=lambda tup: tup[2])\n",
    "print(Tuple_list)\n",
    "\n",
    "print(Tuple_list_sorted)\n"
   ]
  },
  {
   "cell_type": "markdown",
   "metadata": {
    "id": "qz4P36Lz6iK6"
   },
   "source": [
    "## Task 05 – Check Brackets\n",
    "Write a program that reads in a string, which is supposed to be a mathematical expression. Focus on brackets only and check whether left and right brackets are composed correctly. Ignore all other characters (i.e. you don’t have to check correctness of operators and operands).\n",
    "Examples of correct input:\n",
    "* 3*(2+5)\n",
    "* ((()())())\n",
    "* (3+)(((4)))\n",
    "* Empty string\n",
    "\n",
    "Examples of incorrect input:\n",
    "* (3*(2+5)\n",
    "* ((()())(())\n",
    "* (3+)((4)))\n",
    "* ())(()\n"
   ]
  },
  {
   "cell_type": "code",
   "execution_count": null,
   "metadata": {
    "id": "2c67p_Zc6iK7"
   },
   "outputs": [],
   "source": [
    "input_string = input()\n",
    "character_list = list(input_string)\n",
    "\n",
    "counter_left = 0\n",
    "counter_right = 0\n",
    "check = True\n",
    "\n",
    "for element in character_list:\n",
    "    if element == '(':\n",
    "        counter_left += 1        \n",
    "    elif (element == ')'):\n",
    "        counter_right += 1\n",
    "        if counter_left < counter_right:\n",
    "            print('Invalide input')\n",
    "            check = False\n",
    "            break\n",
    "    else:\n",
    "        continue\n",
    "\n",
    "if (check == True) and (counter_left == counter_right):\n",
    "    print('Equal numbers of left and right brackets')    \n",
    "elif (check == True) and (counter_left != counter_right):\n",
    "    print('Number of left and right brackets unequal')"
   ]
  },
  {
   "cell_type": "markdown",
   "metadata": {
    "id": "k1kh3odh6iK7"
   },
   "source": [
    "## Task 06 – Check Brackets II\n",
    "Extend previous program, so it can handle also square and curly brackets. Note that expressions in brackets cannot overlap. So, expression ```{[()()]([[]])}{}``` is correct, but expression ```([)]``` is not."
   ]
  },
  {
   "cell_type": "code",
   "execution_count": 17,
   "metadata": {
    "collapsed": true,
    "id": "2-UCbTRQ6iK7",
    "jupyter": {
     "outputs_hidden": true
    },
    "tags": []
   },
   "outputs": [
    {
     "name": "stdin",
     "output_type": "stream",
     "text": [
      " ([)]\n"
     ]
    },
    {
     "name": "stdout",
     "output_type": "stream",
     "text": [
      "Invalid Input\n"
     ]
    }
   ],
   "source": [
    "Brackets = { '{' : '}', '[' : ']', '(':')'}\n",
    "Input_List= list(input())\n",
    "Queue = []\n",
    "check = True\n",
    "\n",
    "for i in Input_List:\n",
    "    if i in Brackets:\n",
    "        Queue.append(i)\n",
    "    else:\n",
    "        if Queue == []:\n",
    "            print('Invalid Input')\n",
    "            check = False\n",
    "            break\n",
    "        elif i == Brackets[Queue[-1]]:\n",
    "            Queue.pop()\n",
    "            print(Queue)\n",
    "        else:\n",
    "            print('Invalid Input')\n",
    "            check = False\n",
    "            break\n",
    "            \n",
    "if Queue == [] and check == True:\n",
    "    print('Valid Input')\n",
    "elif check == True :\n",
    "    print('Invalid Input')\n",
    "        \n",
    "        "
   ]
  },
  {
   "cell_type": "markdown",
   "metadata": {
    "id": "tc-8rPlP6iK7"
   },
   "source": [
    "## Task 07 – Queue\n",
    "Write a program that simulates a queue. It will read strings from the input. Consider these inputs as names of people coming to the end of a queue. Whenever “next” is given as input, the program will print out the name on the turn. The program finishes as soon as the queue is empty."
   ]
  },
  {
   "cell_type": "code",
   "execution_count": 22,
   "metadata": {
    "id": "X0o04N6s6iK7"
   },
   "outputs": [
    {
     "name": "stdin",
     "output_type": "stream",
     "text": [
      " Marcel\n",
      " Maite\n",
      " Max\n",
      " next\n"
     ]
    },
    {
     "name": "stdout",
     "output_type": "stream",
     "text": [
      "Marcel\n"
     ]
    },
    {
     "name": "stdin",
     "output_type": "stream",
     "text": [
      " next\n"
     ]
    },
    {
     "name": "stdout",
     "output_type": "stream",
     "text": [
      "Maite\n"
     ]
    },
    {
     "name": "stdin",
     "output_type": "stream",
     "text": [
      " next\n"
     ]
    },
    {
     "name": "stdout",
     "output_type": "stream",
     "text": [
      "Max\n"
     ]
    }
   ],
   "source": [
    "name_list = []\n",
    "name_list.append(input())\n",
    "\n",
    "while name_list != []:\n",
    "    Input = input()\n",
    "    if Input == 'next':\n",
    "        print(name_list[0])\n",
    "        name_list.pop(0)\n",
    "    else:\n",
    "        name_list.append(Input)\n",
    "        "
   ]
  },
  {
   "cell_type": "markdown",
   "metadata": {
    "id": "eIhaN3g36iK8"
   },
   "source": [
    "## Task 08 – Unlimited Power\n",
    "Write a function with two arguments – $x$ and $n$. The function returns the value of $x^n$. Use [recursion](https://realpython.com/python-thinking-recursively/#recursive-data-structures-in-python)."
   ]
  },
  {
   "cell_type": "code",
   "execution_count": 27,
   "metadata": {
    "collapsed": true,
    "id": "KSGHEAeL6iK8",
    "jupyter": {
     "outputs_hidden": true
    },
    "tags": []
   },
   "outputs": [
    {
     "name": "stdout",
     "output_type": "stream",
     "text": [
      "81\n"
     ]
    }
   ],
   "source": [
    "def x_multiplied(x,n):\n",
    "    if n == 0:\n",
    "        return 1;\n",
    "    else:\n",
    "        return x * x_multiplied(x,n-1)\n",
    "    \n",
    "print(aux_xPower(3,1))"
   ]
  },
  {
   "cell_type": "markdown",
   "metadata": {
    "id": "WBh2WBXY6iK8"
   },
   "source": [
    "## Task 09 – Unlimited Power II\n",
    "Using function for factorial and function $x^n$ from previous task, write a program that reads value of $x$ and prints approximate value of $e^x$. Use this formula (Taylor series) for calculation\n",
    "$$ e^x = 1 + x + \\frac{x^2}{2!} + \\frac{x^3}{3!} + ... + \\frac{x^n}{n!} $$\n",
    "\n",
    "To get precise value of $e^x$, the series would have to be infinite. Suppose that there is some required accuracy, so the calculation finishes as soon as the value of the next element is smaller than given threshold (e.g., 0.000001)."
   ]
  },
  {
   "cell_type": "code",
   "execution_count": 70,
   "metadata": {
    "id": "tRaZgBVX6iK9"
   },
   "outputs": [
    {
     "name": "stdout",
     "output_type": "stream",
     "text": [
      "20.08553685145113\n"
     ]
    }
   ],
   "source": [
    "def factorial(x):\n",
    "    if x == 0:\n",
    "        return 1\n",
    "    else:\n",
    "        return x * factorial(x-1)\n",
    "    \n",
    "def taylor(x):\n",
    "    n = 0\n",
    "    Liste= [0]\n",
    "    threshold = 1\n",
    "    while float(threshold) >= 0.000001:\n",
    "        Liste.append(Liste[-1] + (x_multiplied(x,n) / factorial(n)))\n",
    "        threshold =  Liste[-1]-Liste[-2]\n",
    "        n += 1\n",
    "    return Liste[-1]\n",
    "\n",
    "print(taylor(3))\n",
    "\n",
    "\n",
    "        "
   ]
  },
  {
   "cell_type": "markdown",
   "metadata": {
    "id": "Wl9JCEYM6iK-"
   },
   "source": [
    "## Acknowledgements\n",
    "\n",
    "Redmond, Hsu, Saini, Gupta, Ramsey, Kondrich, Capoor, Cohen, Borus, Kincaid, Malik, and many others. - Stanford CS41"
   ]
  },
  {
   "cell_type": "code",
   "execution_count": null,
   "metadata": {
    "id": "Bx-WQj4v6iK-"
   },
   "outputs": [],
   "source": []
  }
 ],
 "metadata": {
  "colab": {
   "provenance": []
  },
  "kernelspec": {
   "display_name": "Python 3 (ipykernel)",
   "language": "python",
   "name": "python3"
  },
  "language_info": {
   "codemirror_mode": {
    "name": "ipython",
    "version": 3
   },
   "file_extension": ".py",
   "mimetype": "text/x-python",
   "name": "python",
   "nbconvert_exporter": "python",
   "pygments_lexer": "ipython3",
   "version": "3.8.2"
  }
 },
 "nbformat": 4,
 "nbformat_minor": 4
}
