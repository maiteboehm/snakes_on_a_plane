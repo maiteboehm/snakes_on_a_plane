{
 "cells": [
  {
   "cell_type": "markdown",
   "metadata": {
    "id": "3i7Q6MM_7a82"
   },
   "source": [
    "# Assignment 03\n",
    "#### Python Basics III - Functions and Classes\n",
    "\n",
    "This tutorial was written by Terry L. Ruas (University of Göttingen). The references for external contributors for which this material was anyhow adapted/inspired are in the Acknowledgments section (end of the document)."
   ]
  },
  {
   "cell_type": "markdown",
   "metadata": {
    "id": "eKtTDCOS7a83"
   },
   "source": [
    "This notebook will cover the following tasks:\n",
    "\n",
    "1. Dictionary\n",
    "2. Classes"
   ]
  },
  {
   "cell_type": "markdown",
   "metadata": {
    "id": "XumFInmh7a85"
   },
   "source": [
    "## Task 01 – Dictionary\n",
    "Imagine you have to write a (very simple) bookkeepingsystem for a bank that keeps track of the account balances of each of its customers.\n",
    "1. Write a function that spans a dictionary holding a default balance of 0 for an initial list of customers. For simplicity, assume customer names are unique identifier.  (optional) Can you express that same functionality using a lambda function?\n",
    "2. What are elegant ways to add or remove single and multiple customers using the functionality of dict?\n",
    "3. Now write two simple functions that allow you to deposit and withdraw money for a given bank customer.\n",
    "4. Include error messages for inputs that are not permissible, e.g., withdrawing negative amounts or overdrawing the account, etc."
   ]
  },
  {
   "cell_type": "code",
   "execution_count": 4,
   "metadata": {
    "id": "aEr0j2IX7a85"
   },
   "outputs": [
    {
     "name": "stdout",
     "output_type": "stream",
     "text": [
      "{'customer1': 0, 'customer2': 0, 'customer3': 0, 'customer4': 0}\n",
      "{'customer1': 50, 'customer2': 0, 'customer3': 0, 'customer4': 0, 'customer5': 0}\n",
      "{'customer1': 25, 'customer2': 0, 'customer3': 0, 'customer4': 0, 'customer5': 0}\n"
     ]
    }
   ],
   "source": [
    "# Number 1\n",
    "\n",
    "customers = ['customer1', 'customer2', 'customer3', 'customer4']\n",
    "\n",
    "def customer_dict(customer_list):\n",
    "    value = 0\n",
    "    customer_dict = dict.fromkeys(customer_list, value)\n",
    "    \n",
    "    return customer_dict\n",
    "\n",
    "dictionary = customer_dict(customers)\n",
    "\n",
    "# lambda function\n",
    "\n",
    "print((lambda customer_list, value: dict.fromkeys(customer_list, value)) (customers, 0))\n",
    "\n",
    "# Number 2\n",
    "\n",
    "def add_customer(dictionary, new_customer, customer_value=0):\n",
    "    dictionary[new_customer] = customer_value\n",
    "    \n",
    "    return dictionary\n",
    "\n",
    "new_customer = 'customer5'\n",
    "\n",
    "dictionary = add_customer(dictionary, new_customer)\n",
    "\n",
    "def remove_customer(dictionary, customer):\n",
    "    if type(customer) == str:\n",
    "        del dictionary[customer]\n",
    "    else:\n",
    "        for n in customer:\n",
    "            del dictionary[n]\n",
    "    return dictionary\n",
    "\n",
    "# 3\n",
    "\n",
    "def deposit_money(dictionary, customer, value):\n",
    "    dictionary[customer] = dictionary[customer] + value\n",
    "    \n",
    "    return dictionary\n",
    "\n",
    "dictionary = deposit_money(dictionary, 'customer1', 50)\n",
    "print(dictionary)\n",
    "\n",
    "def withdraw_money(dictionary, customer, value):\n",
    "    dictionary[customer] = dictionary[customer] - value\n",
    "    \n",
    "    return dictionary\n",
    "\n",
    "dictionary = withdraw_money(dictionary, 'customer1', 25)\n",
    "print(dictionary)\n"
   ]
  },
  {
   "cell_type": "markdown",
   "metadata": {
    "id": "9tMOI3tn7a86"
   },
   "source": [
    "## Task 02 – Classes\n",
    "The manager thinks that the simple bookkeeping system you have built is not powerful enough. She requests that you start from scratch and use classes instead.\n",
    "1. Write a simple class with appropriate constructor *\\_\\_init\\_\\_* that initializes an object of class *Customer* tracking the same information as in Task 01.\n",
    "2. Now write two simple methods for class *Customer* that allow you to deposit and withdraw money for a given customer object.\n",
    "3. Include error messages for inputs that are not permissible, e.g., withdrawing negative amounts or overdrawing the account.\n",
    "4. (Inheritance) Write a child class *SavingsCustomer* that inherits its features from the parent class *Customer*. A savings customer has an extra savings balance for receiving extra interest. The class should have a method to transfer money back and forth between the accounts' main balance as well as the savings balance. Do not forget to add reasonable error messages."
   ]
  },
  {
   "cell_type": "code",
   "execution_count": null,
   "metadata": {},
   "outputs": [],
   "source": []
  }
 ],
 "metadata": {
  "colab": {
   "provenance": []
  },
  "kernelspec": {
   "display_name": "Python 3 (ipykernel)",
   "language": "python",
   "name": "python3"
  },
  "language_info": {
   "codemirror_mode": {
    "name": "ipython",
    "version": 3
   },
   "file_extension": ".py",
   "mimetype": "text/x-python",
   "name": "python",
   "nbconvert_exporter": "python",
   "pygments_lexer": "ipython3",
   "version": "3.8.2"
  }
 },
 "nbformat": 4,
 "nbformat_minor": 1
}
