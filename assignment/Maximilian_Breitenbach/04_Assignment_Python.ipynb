{
 "cells": [
  {
   "cell_type": "markdown",
   "metadata": {
    "id": "_ikvQGPR7a99"
   },
   "source": [
    "# Assignment 04\n",
    "#### Python Basics IV - Functions, Unity Testing, and Logging\n",
    "\n",
    "This tutorial was written by Terry L. Ruas (University of Göttingen). The references for external contributors for which this material was anyhow adapted/inspired are in the Acknowledgments section (end of the document)."
   ]
  },
  {
   "cell_type": "markdown",
   "metadata": {
    "id": "SchiSV187a9-"
   },
   "source": [
    "This notebook will cover the following tasks:\n",
    "\n",
    "1. Lambda functions\n",
    "2. List comprehensions\n",
    "3. Unity Test\n",
    "4. HTTP Request\n",
    "5. Logging\n",
    "6. Download File"
   ]
  },
  {
   "cell_type": "markdown",
   "metadata": {
    "id": "QOoNCxgu7a-A"
   },
   "source": [
    "## Task 01 – Lambda functions\n",
    "Python supports lambda functions as a handy way to define small, anonymous, i.e., unnamed, functions inline. The basic syntax for lambda functions is:\n",
    "$$\n",
    " \\textbf{lambda}\\text{ parameter1, parameter2, ... : }\\textbf{expression}\n",
    "$$\n",
    "Use a lambda function only to retain the even values in an array of integers. Test your function with an input array of your choosing. Print the input array and the filtered output array to stdout."
   ]
  },
  {
   "cell_type": "code",
   "execution_count": null,
   "metadata": {
    "scrolled": false
   },
   "outputs": [],
   "source": []
  },
  {
   "cell_type": "code",
   "execution_count": 8,
   "metadata": {
    "id": "5keoJAOw7a-B"
   },
   "outputs": [
    {
     "name": "stdout",
     "output_type": "stream",
     "text": [
      "[[1, 2, 3, 4, 5, 6, 7, 8], [2, 4, 6, 8]]\n",
      "[[1, 2, 3, 4, 5, 6, 7, 8], [2, 4, 6, 8]]\n"
     ]
    }
   ],
   "source": [
    "import sys\n",
    "Number_Liste = [1,2,3,4,5,6,7,8]\n",
    "x = lambda number: number%2==0\n",
    "Sorted_Liste = list(filter(lambda number: number%2==0, Number_Liste))\n",
    "Listen_array = [Number_Liste,Sorted_Liste]\n",
    "print(Listen_array)\n",
    "def print_to_stdout(*array):\n",
    "    print(*array, file =sys.stdout)\n",
    "print_to_stdout(Listen_array)"
   ]
  },
  {
   "cell_type": "markdown",
   "metadata": {
    "id": "XSyLzHT17a-B"
   },
   "source": [
    "## Task 02 – List comprehensions\n",
    "Python supports list comprehension. The basic syntax of list comprehensions is:\n",
    "$$\n",
    "\\text{L = [<elem> for <elem> <Condition>]}\n",
    "$$\n",
    "Use list comprehensions to write a Python function *remove_long_words()* that:\n",
    "- accepts a sentence s and an integer n as input parameters\n",
    "- uses the *split()* function of String objects to split the sentence into words\n",
    "- stores the individual words in a list\n",
    "- removes all words that are longer than n characters from the list, thereby creating a new list\n",
    "- prints the list to stdout"
   ]
  },
  {
   "cell_type": "code",
   "execution_count": 9,
   "metadata": {
    "id": "hT-mGe_T7a-B",
    "scrolled": true
   },
   "outputs": [
    {
     "name": "stdout",
     "output_type": "stream",
     "text": [
      "['mit', 'keine']\n"
     ]
    },
    {
     "data": {
      "text/plain": [
       "['mit', 'keine']"
      ]
     },
     "execution_count": 9,
     "metadata": {},
     "output_type": "execute_result"
    }
   ],
   "source": [
    "Sentence = 'Irgendwas mit Worten, keine Ahnung.'\n",
    "    \n",
    "def remove_long_words(s,n):\n",
    "    list_words = s.split()\n",
    "    cleaned_list = []\n",
    "    list_cleaning = [(cleaned_list.append(str(i))) for i in list_words if len(str(i))<=n]\n",
    "    print_to_stdout(cleaned_list)\n",
    "    return cleaned_list\n",
    "\n",
    "remove_long_words(Sentence,5)"
   ]
  },
  {
   "cell_type": "markdown",
   "metadata": {
    "id": "_QHEBddh7a-C"
   },
   "source": [
    "## Task 03 – Unity Test\n",
    "The following algorithm in Python converts numbers in decimal representation to binary.\n",
    "1. Develop a unit test that checks for values in the interval \\[-1,3\\] whether the algorithm returns the\n",
    "expected results.\n",
    "2. Adjust the algorithm, so it passes the unit test developed in 1). Rename the function to\n",
    "*decimal_to_binary_correct()*"
   ]
  },
  {
   "cell_type": "code",
   "execution_count": 10,
   "metadata": {
    "id": "IdFKIU4u7a-C"
   },
   "outputs": [],
   "source": [
    "import math\n",
    "def decimal2binary(n):\n",
    "    # function to convert decimal integers to binary\n",
    "    x = []\n",
    "    while n > 0:\n",
    "        x.append(n % 2)\n",
    "        n = math.floor(n/2)\n",
    "    return x[::-1]\n",
    "# Unit Test Function    "
   ]
  },
  {
   "cell_type": "code",
   "execution_count": 11,
   "metadata": {},
   "outputs": [
    {
     "name": "stdout",
     "output_type": "stream",
     "text": [
      "No Value in Function detected.\n",
      "Test numbers = [-1] binary_numbers []\n"
     ]
    }
   ],
   "source": [
    "def assertion_test(test_function, variable, condition):\n",
    "    print(test_function(variable))\n",
    "    if test_function(variable) == str(condition):\n",
    "        print('Works')\n",
    "        return(test_function(variable), condition)\n",
    "        \n",
    "    else:\n",
    "        print(test_function(variable) + 'Assertion Error, value should be' + str(condition))\n",
    "        \n",
    "    return(test_function(variable), condition)\n",
    "\n",
    "def unity_test(function):\n",
    "    test_numbers = []\n",
    "    binary_list = []\n",
    "    for i in range(-1,4):\n",
    "        test_numbers.append(i)\n",
    "        if isinstance(function(i), list) == True:\n",
    "            try:\n",
    "                s = [str(o) for o in function(i)]\n",
    "                binary_number = int(''.join(s))\n",
    "                \n",
    "            except ValueError:\n",
    "                \n",
    "                if len(function(i))==0:\n",
    "                    print('No Value in Function detected.')\n",
    "                    break\n",
    "                    \n",
    "                elif len(function(i))==2:\n",
    "                    print(True)\n",
    "            \n",
    "        elif i<0:\n",
    "            k = '{0:04b}'.format(abs(i))\n",
    "            k = str(1) + str(k)\n",
    "            binary_list.append(assertion_test(function,i,k))\n",
    "            \n",
    "        elif i == 0:\n",
    "            k = '{0:04b}'.format(abs(i))\n",
    "            k_n = str(1) + str(k)\n",
    "            k_p = '{0:05b}'.format(abs(i))\n",
    "            zero_function = function(0)\n",
    "            \n",
    "            if zero_function[0] == str(k_p) and zero_function[1] == str(k_n):\n",
    "                binary_list.append((zero_function[0], k_p, zero_function[1], k_n))\n",
    "                                    \n",
    "            else:\n",
    "                print('Error')\n",
    "                return(binary_list,test_numbers)\n",
    "            \n",
    "        elif i >0:\n",
    "            k = '{0:04b}'.format(abs(i))\n",
    "            k = str(0) + str(k)\n",
    "            binary_list.append(assertion_test(function,i,k))\n",
    "    return('Test numbers = '+ str(test_numbers) + ' binary_numbers ' + str(binary_list))\n",
    "\n",
    "print(unity_test(decimal2binary))\n"
   ]
  },
  {
   "cell_type": "code",
   "execution_count": 12,
   "metadata": {
    "id": "McO91gqP7a-D"
   },
   "outputs": [
    {
     "name": "stdout",
     "output_type": "stream",
     "text": [
      "10001\n",
      "Works\n",
      "00001\n",
      "Works\n",
      "00010\n",
      "Works\n",
      "00011\n",
      "Works\n",
      "Test numbers = [-1, 0, 1, 2, 3] binary_numbers [('10001', '10001'), ('00000', '00000', '10000', '10000'), ('00001', '00001'), ('00010', '00010'), ('00011', '00011')]\n"
     ]
    }
   ],
   "source": [
    "def decimal2binary_correct(n):\n",
    "    if n<0:\n",
    "        k = '{0:04b}'.format(abs(n))\n",
    "        k = str(1) + str(k)\n",
    "        return k\n",
    "        \n",
    "    elif n == 0:\n",
    "        k = '{0:04b}'.format(n)\n",
    "        k_n = str(1) + str(k)\n",
    "        k_p = '{0:05d}'.format(n)\n",
    "        return k_p,k_n\n",
    "        \n",
    "    elif n >0:\n",
    "        k = '{0:04b}'.format(abs(n))\n",
    "        k = str(0) + str(k)\n",
    "        return k\n",
    "print(unity_test(decimal2binary_correct))"
   ]
  },
  {
   "cell_type": "markdown",
   "metadata": {
    "id": "iNLOQ5y47a-E"
   },
   "source": [
    "## Task 04 – HTTP Request\n",
    "Working with HTTP connections is essential for many data gathering tasks. The Python library *urllib* provides all functionality we need.\n",
    "Write a Python function *open_url(url)* that:\n",
    "- uses urllib to establish a HTTP connection to an arbitrary website\n",
    "- retrieves and prints the first 200 characters of the html resource, i.e. the html source code, of the chosen website\n",
    "- handles the exceptions thrown by the *urllib.request* function\n",
    "\n",
    "FYI: The basic syntax for exception handling in Python is as follows:\n",
    "```\n",
    "try:\n",
    "    ...\n",
    "    return ...\n",
    "except SomeError1 as e:\n",
    "    # error-specific exception handling\n",
    "except SomeError2 as e:\n",
    "    # error-specific exception handling\n",
    "except\n",
    "    # general exception handling\n",
    "```"
   ]
  },
  {
   "cell_type": "code",
   "execution_count": 13,
   "metadata": {
    "id": "NaCXxVlB7a-E"
   },
   "outputs": [
    {
     "name": "stdout",
     "output_type": "stream",
     "text": [
      "b'<!doctype html><html itemscope=\"\" itemtype=\"http://schema.org/WebPage\" lang=\"de\"><head><meta content=\"text/html; charset=UTF-8\" http-equiv=\"Content-Type\"><meta content=\"/images/branding/googleg/1x/goog'\n"
     ]
    }
   ],
   "source": [
    "from urllib.error import HTTPError, URLError\n",
    "from urllib.request import urlopen\n",
    "\n",
    "def open_url(url):\n",
    "    try:\n",
    "        with urlopen(url, timeout=10) as response:\n",
    "            body = response.read()\n",
    "            return response.read(), response, body\n",
    "    except HTTPError as error:\n",
    "        print(error.status, error.reason)\n",
    "    except URLError as error:\n",
    "        print(error.reason)\n",
    "    except TimeoutError:\n",
    "        print(\"Timeouted\")\n",
    "a, b, c = open_url(\"https://www.google.de/\")\n",
    "print(c[:201])\n",
    "        \n",
    "    "
   ]
  },
  {
   "cell_type": "markdown",
   "metadata": {
    "id": "ogac-RcI7a-F"
   },
   "source": [
    "## Task 05 – Logging\n",
    "The logging module in Python provides functionality for logging and debugging purposes. Use the logging module to extend the error handling for the function that you implemented to establish a HTTP connection (Task 4). All exceptions thrown by your function shall be logged as errors.\n",
    "\n",
    "To accomplish the task:\n",
    "- write a Python function *init_log(file_name, file_mode, level, format, date_format)* that initializes a custom log file to which all debugging information and errors are appended using a format that includes the date, time, level and the message of the logging event\n",
    "- log occurring errors by calling *logging.error(...)*\n",
    "- close the log after completing your task by calling *logging.shutdown()*\n",
    "\n",
    "If you choose not to complete Tasks 4, test the logging functionality with a few examples of your own."
   ]
  },
  {
   "cell_type": "code",
   "execution_count": null,
   "metadata": {
    "id": "hT8RvjYU7a-F"
   },
   "outputs": [],
   "source": []
  },
  {
   "cell_type": "markdown",
   "metadata": {
    "id": "FFvlZPUc7a-G"
   },
   "source": [
    "## Task 06 – Download File\n",
    "In Task 4, you used the *urllib* library to establish a http connection. You can also use the *urllib* library to perform simple file downloads.\n",
    "\n",
    "Write a Python function *download_file(url, path)* that:\n",
    "- checks whether the input URL points to a .txt file\n",
    "- if the input URL points to a .txt file, uses the *urllib* library to download and write the text file to the given path on your machine\n",
    "- logs an error “No text file found at given URL, download aborted!” to the log file created in Task 5 if the input URL does not point to a .txt file.\n",
    "- properly handles exceptions\n",
    "\n",
    "Use the *download_file()* function to download William Shakespeare’s drama Macbeth as a plain\n",
    "text file from: [Macbeth](https://ia802707.us.archive.org/1/items/macbeth02264gut/0ws3410.txt)"
   ]
  },
  {
   "cell_type": "code",
   "execution_count": 16,
   "metadata": {
    "id": "3L-DwhcZ7a-G"
   },
   "outputs": [
    {
     "name": "stdout",
     "output_type": "stream",
     "text": [
      "Download successfull!\n"
     ]
    }
   ],
   "source": [
    "import os\n",
    "from urllib import request\n",
    "def download_file(url, path):\n",
    "    if '.txt' in url:\n",
    "        r = request.urlretrieve(url, path)\n",
    "        return print('Download successfull!')\n",
    "    else:\n",
    "        return print('Download failed!')\n",
    "path_macbeth = str(os.getcwd())+ \"Macbeth.txt\"\n",
    "download_file(\"https://ia802707.us.archive.org/1/items/macbeth02264gut/0ws3410.txt\", path_macbeth)"
   ]
  },
  {
   "cell_type": "code",
   "execution_count": 20,
   "metadata": {},
   "outputs": [
    {
     "name": "stdout",
     "output_type": "stream",
     "text": [
      "Download successfull!\n"
     ]
    }
   ],
   "source": [
    "path_atlantis = str(os.getcwd() + 'New_Atlantis.txt')\n",
    "download_file('https://ia801309.us.archive.org/24/items/newatlantis02434gut/nwatl10.txt',\n",
    "              path_atlantis)\n",
    "\n"
   ]
  },
  {
   "cell_type": "code",
   "execution_count": null,
   "metadata": {},
   "outputs": [],
   "source": []
  },
  {
   "cell_type": "code",
   "execution_count": null,
   "metadata": {},
   "outputs": [],
   "source": []
  }
 ],
 "metadata": {
  "colab": {
   "provenance": []
  },
  "kernelspec": {
   "display_name": "Python 3 (ipykernel)",
   "language": "python",
   "name": "python3"
  },
  "language_info": {
   "codemirror_mode": {
    "name": "ipython",
    "version": 3
   },
   "file_extension": ".py",
   "mimetype": "text/x-python",
   "name": "python",
   "nbconvert_exporter": "python",
   "pygments_lexer": "ipython3",
   "version": "3.11.1"
  }
 },
 "nbformat": 4,
 "nbformat_minor": 1
}
