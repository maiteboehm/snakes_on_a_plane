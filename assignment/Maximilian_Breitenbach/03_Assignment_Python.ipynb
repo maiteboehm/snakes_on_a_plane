{
 "cells": [
  {
   "cell_type": "markdown",
   "metadata": {
    "id": "3i7Q6MM_7a82"
   },
   "source": [
    "# Assignment 03\n",
    "#### Python Basics III - Functions and Classes\n",
    "\n",
    "This tutorial was written by Terry L. Ruas (University of Göttingen). The references for external contributors for which this material was anyhow adapted/inspired are in the Acknowledgments section (end of the document)."
   ]
  },
  {
   "cell_type": "markdown",
   "metadata": {
    "id": "eKtTDCOS7a83"
   },
   "source": [
    "This notebook will cover the following tasks:\n",
    "\n",
    "1. Dictionary\n",
    "2. Classes"
   ]
  },
  {
   "cell_type": "markdown",
   "metadata": {
    "id": "XumFInmh7a85"
   },
   "source": [
    "## Task 01 – Dictionary\n",
    "Imagine you have to write a (very simple) bookkeepingsystem for a bank that keeps track of the account balances of each of its customers.\n",
    "1. Write a function that spans a dictionary holding a default balance of 0 for an initial list of customers. For simplicity, assume customer names are unique identifier.  (optional) Can you express that same functionality using a lambda function?\n",
    "2. What are elegant ways to add or remove single and multiple customers using the functionality of dict?\n",
    "3. Now write two simple functions that allow you to deposit and withdraw money for a given bank customer.\n",
    "4. Include error messages for inputs that are not permissible, e.g., withdrawing negative amounts or overdrawing the account, etc."
   ]
  },
  {
   "cell_type": "code",
   "execution_count": 32,
   "metadata": {
    "id": "aEr0j2IX7a85"
   },
   "outputs": [
    {
     "name": "stdout",
     "output_type": "stream",
     "text": [
      "Negative balances are not allowed, pls charge your account.\n",
      "{'Klaus': 0, 'Clara': 0, 'Peter': -100, 'Hans': 0, 'Petra': 0, 'Harry': 0}\n"
     ]
    }
   ],
   "source": [
    "Liste_Costumer = ['Klaus','Clara','Peter','Hans','Petra','Harry']\n",
    "#1 Customer_Balance_Function:\n",
    "#1.1\n",
    "def Customer_Balance(Liste):\n",
    "    Customer_Dictionary = {\n",
    "        \n",
    "    }\n",
    "    balance = 0\n",
    "    for element in Liste:\n",
    "        Customer_Dictionary.update({element:balance})\n",
    "    return Customer_Dictionary\n",
    "#print(Customer_Balance(Liste_Costumer))\n",
    "#1.2 (optional)\n",
    "\n",
    "\n",
    "#2 Removal and Addition of Customers:\n",
    "#2.1\n",
    "def Addition_Customer(Exist_Dictionary, Add_Customer, balance):\n",
    "    Exist_Dictionary.update({Add_Customer:balance})\n",
    "    Update_Dictionary = Exist_Dictionary\n",
    "    return Update_Dictionary\n",
    "#print(Addition_Customer(Customer_Balance(Liste_Costumer),'Harry',100))\n",
    "#2.2\n",
    "def Removal_Customer(Exist_Dictionary, Remove_Customer):\n",
    "    Exist_Dictionary.pop(str(Remove_Customer))\n",
    "    Update_Dictionary = Exist_Dictionary\n",
    "    return Update_Dictionary\n",
    "#print(Removal_Customer(Customer_Balance(Liste_Costumer),'Peter'))\n",
    "#3 Money Deposition and Withdrawal:\n",
    "#3.1\n",
    "def Customer_Deposit(Dictionary,Customer,Amount):\n",
    "    balance = Dictionary[Customer]\n",
    "    balance = balance+Amount\n",
    "    Dictionary.update({Customer:balance})\n",
    "    return Dictionary\n",
    "#print(Customer_Deposit(Customer_Balance(Liste_Costumer),'Peter',100))\n",
    "#3.2\n",
    "def Customer_Withdrawal(Dictionary,Customer,Amount):\n",
    "    balance = Dictionary[Customer]\n",
    "    balance = balance-Amount\n",
    "    if Amount<0:\n",
    "        print('The Amount to be withdrawn must be a positive Number.')\n",
    "    elif balance<0:\n",
    "        print('Negative balances are not allowed, pls charge your account.')\n",
    "    Dictionary.update({Customer:balance})\n",
    "    return Dictionary\n",
    "print(Customer_Withdrawal(Customer_Balance(Liste_Costumer),'Peter',100))\n"
   ]
  },
  {
   "cell_type": "markdown",
   "metadata": {
    "id": "9tMOI3tn7a86"
   },
   "source": [
    "## Task 02 – Classes\n",
    "The manager thinks that the simple bookkeeping system you have built is not powerful enough. She requests that you start from scratch and use classes instead.\n",
    "1. Write a simple class with appropriate constructor *\\_\\_init\\_\\_* that initializes an object of class *Customer* tracking the same information as in Task 01.\n",
    "2. Now write two simple methods for class *Customer* that allow you to deposit and withdraw money for a given customer object.\n",
    "3. Include error messages for inputs that are not permissible, e.g., withdrawing negative amounts or overdrawing the account.\n",
    "4. (Inheritance) Write a child class *SavingsCustomer* that inherits its features from the parent class *Customer*. A savings customer has an extra savings balance for receiving extra interest. The class should have a method to transfer money back and forth between the accounts' main balance as well as the savings balance. Do not forget to add reasonable error messages."
   ]
  },
  {
   "cell_type": "code",
   "execution_count": 3,
   "metadata": {
    "id": "mcZ6wBOO7a86"
   },
   "outputs": [
    {
     "name": "stdout",
     "output_type": "stream",
     "text": [
      "0\n",
      "19\n"
     ]
    }
   ],
   "source": [
    "class Customer:\n",
    "    #constructor of the class\n",
    "    def __init__(self,name):\n",
    "        self.name = name\n",
    "        self.balance = 0\n",
    "        \n",
    "    def deposit(self,amount):\n",
    "        self.balance = self.balance +amount\n",
    "        if self.balance <0:\n",
    "            print('Die Geldspeicher sind leer mein Lord!')\n",
    "        \n",
    "    def withdraw(self,amount):\n",
    "        if amount <0:\n",
    "            print('Der Betrag, welcher abgebucht werden soll, muss positiv sein.')\n",
    "        elif self.balance <0:\n",
    "            print('Die Geldspeicher sind leer mein Lord!')\n",
    "        else:\n",
    "            self.balance = self.balance-amount\n",
    "\n",
    "class SavingsCustomer(Customer):\n",
    "    def __init__(self,name):\n",
    "        super().__init__(name)\n",
    "        self.svg_balance = 0\n",
    "    def transfer_svg_balance(self,amount):\n",
    "        self.balance = self.balance-amount\n",
    "        self.svg_balance = self.svg_balance+amount        \n",
    "    def transfer_regular_balance(self,amount):\n",
    "        self.svg_balance = self.svg_balance-amount\n",
    "        self.balance = self.balance+amount\n",
    "    \n",
    "    \n",
    "        \n",
    "Customer_1 = Customer('Klaus')\n",
    "SavingsCustomer_1 = SavingsCustomer('Klaus')\n",
    "print(SavingsCustomer_1.balance)\n",
    "SavingsCustomer_1.deposit(100)\n",
    "SavingsCustomer_1.withdraw(90)\n",
    "SavingsCustomer_1.transfer_regular_balance(9)\n",
    "\n",
    "print(SavingsCustomer_1.balance)"
   ]
  },
  {
   "cell_type": "code",
   "execution_count": null,
   "metadata": {},
   "outputs": [],
   "source": []
  }
 ],
 "metadata": {
  "colab": {
   "provenance": []
  },
  "kernelspec": {
   "display_name": "Python 3 (ipykernel)",
   "language": "python",
   "name": "python3"
  },
  "language_info": {
   "codemirror_mode": {
    "name": "ipython",
    "version": 3
   },
   "file_extension": ".py",
   "mimetype": "text/x-python",
   "name": "python",
   "nbconvert_exporter": "python",
   "pygments_lexer": "ipython3",
   "version": "3.10.0"
  }
 },
 "nbformat": 4,
 "nbformat_minor": 1
}
