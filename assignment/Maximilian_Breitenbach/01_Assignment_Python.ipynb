{
 "cells": [
  {
   "cell_type": "markdown",
   "metadata": {
    "id": "LZgQdr4W6iKz"
   },
   "source": [
    "# Assignment 01\n",
    "##### Python Basics I\n",
    "\n",
    "This tutorial was written by Terry Ruas (University of Göttingen). The references for external contributors for which this material was anyhow adapted/inspired are in the Acknowledgments section (end of the document).\n"
   ]
  },
  {
   "cell_type": "markdown",
   "metadata": {
    "id": "4GPUv_8U6iK1"
   },
   "source": [
    "## Task 01 – Hello World!\n",
    "Write a simple program that asks the user to input a name and outputs a simple greeting, such as ‘Hi Name! Nice to meet you!’ and in the other line, ‘Welcome to the Programing Course!’. \n",
    "\n",
    "*Hint: Check out the input () and print() function in Python.* "
   ]
  },
  {
   "cell_type": "code",
   "execution_count": null,
   "metadata": {
    "id": "xt3XV0YD6iK2"
   },
   "outputs": [],
   "source": [
    "print(\"Name?\")\n",
    "Name = input()\n",
    "print(\"Hallo \"+str(x)!)"
   ]
  },
  {
   "cell_type": "markdown",
   "metadata": {
    "id": "_Jz4T4AQ6iK3"
   },
   "source": [
    "## Task 02 – Reversed Words\n",
    "Write a program that reads in a word provided by the user and prints the word in a reversed order. For example, if the input is hello, the output should be ‘olleh’. \n",
    "\n",
    "- Use a loop structure \n",
    "- Use just array indexes \n"
   ]
  },
  {
   "cell_type": "code",
   "execution_count": 7,
   "metadata": {
    "id": "aKLGcZ0_6iK3"
   },
   "outputs": [
    {
     "name": "stdout",
     "output_type": "stream",
     "text": [
      "Max\n",
      "xaM\n"
     ]
    }
   ],
   "source": [
    "import numpy as np\n",
    "\n",
    "x = input()\n",
    "liste = []\n",
    "liste_reverse = []\n",
    "\n",
    "for i in str(x):\n",
    "    liste.append(i)\n",
    "    \n",
    "Letters_array = np.array(liste)\n",
    "\n",
    "for p,k in enumerate(Letters_array):\n",
    "    if p>0:\n",
    "        liste_reverse.append(Letters_array[-p])\n",
    "liste_reverse.append(Letters_array[0])\n",
    "\n",
    "print(''.join(liste_reverse))"
   ]
  },
  {
   "cell_type": "markdown",
   "metadata": {
    "id": "PalhJ9x36iK4"
   },
   "source": [
    "## Task 03 –  Fibonacci Numbers\n",
    "Write a program that reads in an upper bound (number) provided by the user and prints the sequence of Fibonacci numbers that are less or equal to the number given by the user. Use a while-loop for this task. \n",
    "\n",
    "The Fibonacci sequence is defined as \n",
    "$ F_{n}=F_{n−1}+F_{n−2}$. Use $F_{0}=0$ and $F_{1} = 1$ as seed values.  \n",
    "\n",
    "For example, if the user inputs 6, the output should be 0, 1, 1, 2, 3, 5. \n",
    "\n",
    "\n",
    "\n"
   ]
  },
  {
   "cell_type": "code",
   "execution_count": 59,
   "metadata": {
    "id": "vm5UlcKB6iK4"
   },
   "outputs": [
    {
     "name": "stdout",
     "output_type": "stream",
     "text": [
      "9999\n",
      "[0, 1, 1, 2, 3, 5, 8, 13, 21, 34, 55, 89, 144, 233, 377, 610, 987, 1597, 2584, 4181, 6765]\n"
     ]
    }
   ],
   "source": [
    "x = input()\n",
    "liste = [0,1]\n",
    "\n",
    "while liste[-1]<int(x):\n",
    "        j = int(liste[-1])+int(liste[-2])\n",
    "        if j>int(x):\n",
    "            break\n",
    "        else:\n",
    "            liste.append(j)\n",
    "print(liste)"
   ]
  },
  {
   "cell_type": "markdown",
   "metadata": {
    "id": "JV1Mm9qA6iK5"
   },
   "source": [
    "## Task 04 – Selective Printing \n",
    "\n",
    "Write a program that reads in an upper bound (number) provided by the user and prints all integer numbers that are less or equal to the upper bound except the integer numbers that are divisible by 3. Use the continue statement. For example, if the user enters 6 as the upper bound, the output should be 0, 1, 2, 4, 5.  "
   ]
  },
  {
   "cell_type": "code",
   "execution_count": 72,
   "metadata": {
    "id": "C3i7ctus6iK6"
   },
   "outputs": [
    {
     "name": "stdout",
     "output_type": "stream",
     "text": [
      "8\n",
      "[0, 1, 2, 4, 5, 7]\n"
     ]
    }
   ],
   "source": [
    "k = input()\n",
    "liste = []\n",
    "j=0\n",
    "\n",
    "while j <int(k):\n",
    "    if j==0:\n",
    "        liste.append(j)\n",
    "        j+=1\n",
    "    elif j%3==0:\n",
    "        j+=1\n",
    "    else:\n",
    "        liste.append(j)\n",
    "        j+=1\n",
    "    \n",
    "print(liste)\n"
   ]
  },
  {
   "cell_type": "markdown",
   "metadata": {
    "id": "qz4P36Lz6iK6"
   },
   "source": [
    "## Task 05 – Triangle Checking   \n",
    "\n",
    "Write a Python program that asks the user to input the lengths of the sides in a triangle and outputs whether the triangle is equilateral, isosceles, or scalene. The program should also check for the Triangle inequality $(z < x + y)$,  and prompt the user for a valid input. \n",
    "\n",
    "- An equilateral triangle is a triangle in which all three sides are of equal length. \n",
    "- An isosceles triangle is a triangle with (at least) two sides of equal length. \n",
    "- A scalene triangle is a triangle in which all three sides have different lengths. \n",
    "\n",
    "For example, if the user inputs a=3, b=4, c=5, the triangle is scalene. \n"
   ]
  },
  {
   "cell_type": "code",
   "execution_count": 57,
   "metadata": {},
   "outputs": [
    {
     "name": "stdout",
     "output_type": "stream",
     "text": [
      "Bitte geben Sie die Länge der Ankathete ein.\n",
      "12.1\n",
      "Bitte geben Sie die Länge der Gegenkathete ein.\n",
      "13.4\n",
      "Bitte geben Sie die Länge der Hypothenuse ein.\n",
      "14.2\n",
      "Dreiecksungleichung erfüllt.\n",
      "Dieses Dreieck ist isosceles.\n"
     ]
    }
   ],
   "source": [
    "# Seiten = ['Ankathete', 'Gegenkathete', 'Hypothenuse']\n",
    "length = []\n",
    "length_ord = []\n",
    "i=0\n",
    "while len(length)<3:\n",
    "    print(\"Bitte geben Sie die Länge der \"+ str(Seiten[i]) + \" ein.\")\n",
    "    x = input()\n",
    "    try:\n",
    "        x = float(x)\n",
    "        length.append(x)\n",
    "        i+=1\n",
    "    except ValueError:\n",
    "        print('Das ist keine Zahl! Versuch es erneut.')\n",
    "        \n",
    "length_ord = sorted(length)\n",
    "x = float(length[0])\n",
    "y = float(length[1])\n",
    "z = float(length[2])\n",
    "if  x+y>=z:\n",
    "    print(\"Dreiecksungleichung erfüllt.\")\n",
    "    if x==y==z:\n",
    "        print(\"Dieses Dreieck ist equilateral und isosceles.\")\n",
    "    elif x==y:\n",
    "        print(\"Dieses Dreieck ist scalene.\")\n",
    "    elif y==z:\n",
    "        print(\"Dieses Dreieck ist scalene.\")\n",
    "    else:\n",
    "        print(\"Dieses Dreieck ist isosceles.\")\n",
    "else:\n",
    "    print(\"Keine valide Eingabe, die Dreiecksungleichung ist nicht erfüllt.\")"
   ]
  },
  {
   "cell_type": "markdown",
   "metadata": {
    "id": "2c67p_Zc6iK7"
   },
   "source": []
  },
  {
   "cell_type": "markdown",
   "metadata": {
    "id": "k1kh3odh6iK7"
   },
   "source": [
    "## Task 06 – Decimal to Octal Conversion \n",
    "\n",
    "Write a program that reads a non-negative integer number in the decimal representation provided by the user and prints the octal representation of the number. For example, if the user enters 167, the output should be 247.  \n",
    "\n",
    "Write a more general program that reads in a non-negative number (potentially including decimal places) in the decimal representation provided by the user and prints the octal representation of the number. For example, if the user enters 25.11, the output should be 31.0702436560507534. "
   ]
  },
  {
   "cell_type": "code",
   "execution_count": 39,
   "metadata": {
    "id": "2-UCbTRQ6iK7"
   },
   "outputs": [
    {
     "name": "stdout",
     "output_type": "stream",
     "text": [
      "125.00\n",
      "2\n",
      "1\n",
      "0\n",
      "-1\n",
      "['1', '7', '5']\n",
      "175\n"
     ]
    }
   ],
   "source": [
    "import numpy as np\n",
    "x = input()\n",
    "Liste = []\n",
    "Octal = []\n",
    "for i in range(100):\n",
    "    Liste.append(i)\n",
    "String_float = str(x)\n",
    "String_float_split = String_float.split(\".\")\n",
    "Digit_whole = int(String_float_split[0])\n",
    "Digit_decimal =int(String_float_split[1])\n",
    "k = len(str(Digit_whole))+1\n",
    "for i in range(len(Liste)):\n",
    "    if Digit_whole/(8**k)<1:\n",
    "        k-=1\n",
    "        if k<0:\n",
    "            break\n",
    "    elif Digit_whole/(8**k)>=1:\n",
    "        n = Digit_whole/(8**k)\n",
    "        n = str(n)\n",
    "        n = n.split(\".\")\n",
    "        Octal.append(n[0])\n",
    "        Digit_whole = Digit_whole%(8**k)\n",
    "        print(k)\n",
    "print(Octal)\n",
    "for i in range(len(Octal)):\n",
    "    Octal_number  = ''.join(Octal)\n",
    "print(Octal_number)\n",
    "\n",
    "def Conversion(Float):\n",
    "    Float = str(x)\n",
    "    for i in (String_float):\n",
    "        print(i)"
   ]
  },
  {
   "cell_type": "code",
   "execution_count": null,
   "metadata": {},
   "outputs": [],
   "source": []
  },
  {
   "cell_type": "markdown",
   "metadata": {
    "id": "Wl9JCEYM6iK-"
   },
   "source": [
    "## Acknowledgements\n",
    "\n",
    "Redmond, Hsu, Saini, Gupta, Ramsey, Kondrich, Capoor, Cohen, Borus, Kincaid, Malik, and many others. - Stanford CS41"
   ]
  },
  {
   "cell_type": "code",
   "execution_count": null,
   "metadata": {
    "id": "Bx-WQj4v6iK-"
   },
   "outputs": [],
   "source": []
  }
 ],
 "metadata": {
  "colab": {
   "collapsed_sections": [],
   "provenance": []
  },
  "kernelspec": {
   "display_name": "Python 3 (ipykernel)",
   "language": "python",
   "name": "python3"
  },
  "language_info": {
   "codemirror_mode": {
    "name": "ipython",
    "version": 3
   },
   "file_extension": ".py",
   "mimetype": "text/x-python",
   "name": "python",
   "nbconvert_exporter": "python",
   "pygments_lexer": "ipython3",
   "version": "3.10.0"
  }
 },
 "nbformat": 4,
 "nbformat_minor": 1
}
