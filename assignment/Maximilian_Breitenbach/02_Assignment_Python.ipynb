{
 "cells": [
  {
   "cell_type": "markdown",
   "metadata": {
    "id": "LZgQdr4W6iKz"
   },
   "source": [
    "# Assignment 02\n",
    "##### Python Basics II\n",
    "\n",
    "This tutorial was written by Terry Ruas (University of Göttingen); The references for external contributors for which this material was anyhow adapted/inspired are in the Acknowledgments section (end of the document).\n"
   ]
  },
  {
   "cell_type": "markdown",
   "metadata": {
    "id": "Yvektzz_6iK1"
   },
   "source": [
    "This notebook will cover the following tasks:\n",
    "\n",
    "1. String Length\n",
    "2. Largest List Element\n",
    "3. Character Frequency\n",
    "4. Sorted List of Tuples\n",
    "5. Check Brackets\n",
    "6. Check Brackets II\n",
    "7. Queue\n",
    "8. Unlimited Power\n",
    "9. Unlimited Power II"
   ]
  },
  {
   "cell_type": "markdown",
   "metadata": {
    "id": "4GPUv_8U6iK1"
   },
   "source": [
    "## Task 01 – String Length\n",
    "Write a program that reads in a string and prints the length of the input string. Do not use any built-in functions of Python, such as len().\n",
    "For example, if the input is “Computer Science”, the output should be length: 16."
   ]
  },
  {
   "cell_type": "code",
   "execution_count": null,
   "metadata": {
    "scrolled": true
   },
   "outputs": [],
   "source": []
  },
  {
   "cell_type": "code",
   "execution_count": 6,
   "metadata": {
    "id": "xt3XV0YD6iK2"
   },
   "outputs": [
    {
     "name": "stdout",
     "output_type": "stream",
     "text": [
      "Computer Science\n",
      "16\n"
     ]
    }
   ],
   "source": [
    "String = input()\n",
    "Buchstabenliste = []\n",
    "k = 1\n",
    "for i in String:\n",
    "    #print(k)\n",
    "    Buchstabenliste.append(k)\n",
    "    k+=1\n",
    "    \n",
    "print(Buchstabenliste[-1])"
   ]
  },
  {
   "cell_type": "markdown",
   "metadata": {
    "id": "_Jz4T4AQ6iK3"
   },
   "source": [
    "## Task 02 – Largest List Element\n",
    "Write a program that generates a list of 10 random integers between 1 and 100 and then finds and prints the largest element in the list. Do not use the built-in function max().\n",
    "For example, if the input is [23,3,42,29,12,15,8,4,37,34], the output should be the largest element: 42.\n",
    "\n",
    "Hint: Check out the module [random](https://docs.python.org/3.7/library/random.html)."
   ]
  },
  {
   "cell_type": "code",
   "execution_count": 46,
   "metadata": {
    "id": "aKLGcZ0_6iK3"
   },
   "outputs": [
    {
     "name": "stdout",
     "output_type": "stream",
     "text": [
      "[25, 98, 38, 49, 53, 3, 34, 67, 57, 74]\n",
      "[3, 25, 34, 38, 49, 53, 57, 67, 74, 98]\n",
      "98\n"
     ]
    }
   ],
   "source": [
    "import random\n",
    "Zahlenliste = []\n",
    "for i in range(10):\n",
    "    k = random.uniform(0,100)\n",
    "    Zahlenliste.append(int(k))\n",
    "print(Zahlenliste)\n",
    "Zahlenliste.sort()\n",
    "print(Zahlenliste)\n",
    "print(Zahlenliste[-1])"
   ]
  },
  {
   "cell_type": "markdown",
   "metadata": {
    "id": "PalhJ9x36iK4"
   },
   "source": [
    "## Task 03 – Character Frequency\n",
    "Write a program that:\n",
    "* Reads in a string and removes any spaces from the string\n",
    "* Counts how often individual characters occur in the string\n",
    "* Stores the information on character occurrence frequency in a dictionary\n",
    "* Prints the dictionary.\n",
    "\n",
    "For example, if the input is “santa claus”, the output should be:\n",
    "{'s': 2, 'a': 3, 'n': 1, 't': 1, 'c': 1, 'l': 1, 'u': 1}."
   ]
  },
  {
   "cell_type": "code",
   "execution_count": 122,
   "metadata": {
    "id": "vm5UlcKB6iK4"
   },
   "outputs": [
    {
     "name": "stdout",
     "output_type": "stream",
     "text": [
      "Hallo\n",
      "hallo\n",
      "{'a': 1, 'h': 1, 'l': 2, 'o': 1}\n"
     ]
    }
   ],
   "source": [
    "import string\n",
    "Input = input()\n",
    "def lowercaser(Word): #makes all letters in a word to small letters\n",
    "    return Word.lower()\n",
    "\n",
    "#print(lowercaser(Input))\n",
    "Wort = lowercaser(str(Input))\n",
    "Buchstaben = []\n",
    "Anzahl = []\n",
    "Dictionary = {\n",
    "    \n",
    "}\n",
    "alphabet = list(string.ascii_lowercase)\n",
    "#print(alphabet)\n",
    "for i in Wort:\n",
    "    Buchstaben.append(i)\n",
    "#print(Buchstaben)\n",
    "for i in alphabet:\n",
    "    #print(i)\n",
    "    x = Buchstaben.count(str(i))\n",
    "    if x!=0:\n",
    "        Dictionary.update({str(i):x})\n",
    "print(Dictionary)\n",
    "\n"
   ]
  },
  {
   "cell_type": "markdown",
   "metadata": {
    "id": "JV1Mm9qA6iK5"
   },
   "source": [
    "## Task 04 – Sorted List of Tuples\n",
    "Write a program that:\n",
    "* Generates a list of 10 tuples, each tuple consisting of 3 random integers between 1 and 100\n",
    "* Sorts the list of tuples in increasing order of the third element in each tuple\n",
    "* Prints the sorted list of tuples\n",
    "\n",
    "For example, if the generated input list is: [(56, 77, 69), (43, 30, 38), (2, 77, 101), (93, 57, 4), (74, 21, 77), (39, 68, 68), (65, 53, 96), (16, 29, 88), (88, 70, 38)]\n",
    "The output should be: [(93, 57, 4), (43, 30, 38), (88, 70, 38), (39, 68, 68), (56, 77, 69), (74, 21, 77), (16, 29, 88), (65, 53, 96), (2, 77, 101)]\n",
    "\n",
    "Hint: You are allowed and encouraged to use built-in functions, such as [sorted()](https://docs.python.org/3.7/library/functions.html?highlight=sorted#sorted), for this task."
   ]
  },
  {
   "cell_type": "code",
   "execution_count": 1,
   "metadata": {
    "id": "C3i7ctus6iK6"
   },
   "outputs": [
    {
     "name": "stdout",
     "output_type": "stream",
     "text": [
      "[(85, 28, 4), (11, 58, 11), (83, 83, 11), (46, 53, 37), (80, 85, 42), (21, 13, 44), (83, 28, 67), (68, 88, 81), (29, 50, 84), (20, 91, 94)]\n"
     ]
    }
   ],
   "source": [
    "import random\n",
    "\n",
    "Touple_Liste = []\n",
    "\n",
    "for i in range(10):# outer List\n",
    "    Touple = []\n",
    "    \n",
    "    for j in range(3): #inner List of Tuples\n",
    "        k = random.uniform(0,100)\n",
    "        Touple.append(int(k))\n",
    "        #Touple.sort(reverse = True)\n",
    "        \n",
    "        if j==2: #if inner list full, make to tuple \n",
    "            #print(Touple)\n",
    "            Tuple = tuple(Touple)\n",
    "            Touple_Liste.append(Tuple)\n",
    "\n",
    "Touple_Liste.sort(key = lambda x: x[2]) # sorts the list of tuples after the third element\n",
    "    \n",
    "    \n",
    "print(Touple_Liste)"
   ]
  },
  {
   "cell_type": "markdown",
   "metadata": {
    "id": "qz4P36Lz6iK6"
   },
   "source": [
    "## Task 05 – Check Brackets\n",
    "Write a program that reads in a string, which is supposed to be a mathematical expression. Focus on brackets only and check whether left and right brackets are composed correctly. Ignore all other characters (i.e. you don’t have to check correctness of operators and operands).\n",
    "Examples of correct input:\n",
    "* 3*(2+5)\n",
    "* ((()())())\n",
    "* (3+)(((4)))\n",
    "* Empty string\n",
    "\n",
    "Examples of incorrect input:\n",
    "* (3*(2+5)\n",
    "* ((()())(())\n",
    "* (3+)((4)))\n",
    "* ())(()\n"
   ]
  },
  {
   "cell_type": "code",
   "execution_count": 25,
   "metadata": {
    "id": "2c67p_Zc6iK7"
   },
   "outputs": [
    {
     "name": "stdout",
     "output_type": "stream",
     "text": [
      "(())\n",
      "Valide Expression\n"
     ]
    }
   ],
   "source": [
    "Input = input()\n",
    "Expression = str(Input)\n",
    "Brackets_Liste = []\n",
    "Counter = 0\n",
    "for Letter in Expression:\n",
    "    if Letter=='(':\n",
    "        Brackets_Liste.append(Letter)\n",
    "    elif Letter ==')':\n",
    "        Brackets_Liste.append(Letter)\n",
    "for Index,Bracket in enumerate(Brackets_Liste):\n",
    "    if Bracket == ')':\n",
    "        Counter -=1\n",
    "    elif Bracket =='(':\n",
    "        Counter +=1\n",
    "    elif Counter <0:\n",
    "        break\n",
    "    #print(Counter)\n",
    "if Counter !=0:\n",
    "    print('Invalide Expression')\n",
    "elif Counter ==0:\n",
    "    print(\"Valide Expression\")"
   ]
  },
  {
   "cell_type": "markdown",
   "metadata": {
    "id": "k1kh3odh6iK7"
   },
   "source": [
    "## Task 06 – Check Brackets II\n",
    "Extend previous program, so it can handle also square and curly brackets. Note that expressions in brackets cannot overlap. So, expression ```{[()()]([[]])}{}``` is correct, but expression ```([)]``` is not."
   ]
  },
  {
   "cell_type": "code",
   "execution_count": 2,
   "metadata": {
    "id": "2-UCbTRQ6iK7"
   },
   "outputs": [
    {
     "name": "stdout",
     "output_type": "stream",
     "text": [
      "['(', '[', '(', ')', ']', ')']\n"
     ]
    }
   ],
   "source": [
    "#Input = input()\n",
    "Expression = '([()])'\n",
    "Dictionary_Liste = [\n",
    "    '(',\n",
    "    ')',\n",
    "    '[',\n",
    "    ']',\n",
    "    '{',\n",
    "    '}'\n",
    "]\n",
    "In_Liste = []\n",
    "Out_Liste = []\n",
    "Counter_In = 0\n",
    "Bracket_Liste = []\n",
    "for Letter in Expression:\n",
    "    for Key in Dictionary_Liste:\n",
    "        if str(Key)==str(Letter):\n",
    "            Bracket_Liste.append(Letter)\n",
    "print(Bracket_Liste)"
   ]
  },
  {
   "cell_type": "code",
   "execution_count": 23,
   "metadata": {
    "scrolled": true
   },
   "outputs": [
    {
     "name": "stdout",
     "output_type": "stream",
     "text": [
      "['[', '{', '(', '(', ')', ')', ']', '}', ']']\n",
      "[ 0\n",
      "{ 1\n",
      "( 2\n",
      "( 3\n",
      ") 4\n",
      ") 3\n",
      "] 2\n",
      "} 1\n",
      "] 0\n",
      "Invalide Expression\n",
      "-1\n"
     ]
    }
   ],
   "source": [
    "Expression = '[{(())]}]'\n",
    "Bracket_Liste = []\n",
    "Dict_In = ['(','[','{']\n",
    "Dict_Out = [')',']','}']\n",
    "Counter = 0\n",
    "for Letter in Expression:\n",
    "    for Key in Dictionary_Liste:\n",
    "        if str(Key)==str(Letter):\n",
    "            Bracket_Liste.append(Letter)\n",
    "print(Bracket_Liste)\n",
    "for i in Bracket_Liste:\n",
    "    print(i,Counter)\n",
    "    for In in Dict_In:\n",
    "        if str(In) == str(i):\n",
    "            Counter+=1\n",
    "    for Out in Dict_Out:\n",
    "        if Out == i:\n",
    "            Counter-=1\n",
    "    if Counter<0:\n",
    "        print('Invalide Expression')\n",
    "        break\n",
    "if Counter==0:\n",
    "    print('Valide Expression')\n",
    "print(Counter)"
   ]
  },
  {
   "cell_type": "markdown",
   "metadata": {
    "id": "tc-8rPlP6iK7"
   },
   "source": [
    "## Task 07 – Queue\n",
    "Write a program that simulates a queue. It will read strings from the input. Consider these inputs as names of people coming to the end of a queue. Whenever “next” is given as input, the program will print out the name on the turn. The program finishes as soon as the queue is empty."
   ]
  },
  {
   "cell_type": "code",
   "execution_count": null,
   "metadata": {},
   "outputs": [],
   "source": []
  },
  {
   "cell_type": "code",
   "execution_count": 4,
   "metadata": {
    "id": "X0o04N6s6iK7",
    "scrolled": true
   },
   "outputs": [
    {
     "name": "stdout",
     "output_type": "stream",
     "text": [
      "Namen in der folgender Form eingeben: Max,Martin,Philipp\n",
      "Max,Martin,Philipp\n",
      "next\n",
      "0\n",
      "Der nächste ist Max\n",
      "next\n",
      "1\n",
      "Der nächste ist Martin\n",
      "next\n",
      "2\n",
      "Der nächste ist Philipp\n"
     ]
    }
   ],
   "source": [
    "print('Namen in der folgender Form eingeben: Max,Martin,Philipp')\n",
    "Input = input()\n",
    "Name_List = []\n",
    "Temp_Liste = []\n",
    "for Index,Letter in enumerate(Input):\n",
    "    if Input[Index] == ',':\n",
    "        if Temp_Liste[0]==',':\n",
    "            Temp_Liste.remove(',')\n",
    "            Name = ''.join(Temp_Liste)\n",
    "            Name_List.append(Name)\n",
    "            Temp_Liste = []\n",
    "        else:\n",
    "            Name = ''.join(Temp_Liste)\n",
    "            Name_List.append(Name)\n",
    "            Temp_Liste = []\n",
    "    Temp_Liste.append(Letter)\n",
    "    if Index == len(Input)-1:\n",
    "        Name = ''.join(Temp_Liste[1:])\n",
    "        Name_List.append(Name)\n",
    "        Temp_Liste = []\n",
    "i = 0\n",
    "while i<len(Name_List):\n",
    "    Aufruf = input()\n",
    "    print(i)\n",
    "    if Aufruf =='next':\n",
    "        print('Der nächste ist '+ Name_List[i])\n",
    "        i+=1\n",
    "    elif Aufruf != 'next':\n",
    "        continue"
   ]
  },
  {
   "cell_type": "markdown",
   "metadata": {
    "id": "eIhaN3g36iK8"
   },
   "source": [
    "## Task 08 – Unlimited Power\n",
    "Write a function with two arguments – $x$ and $n$. The function returns the value of $x^n$. Use [recursion](https://realpython.com/python-thinking-recursively/#recursive-data-structures-in-python)."
   ]
  },
  {
   "cell_type": "code",
   "execution_count": 9,
   "metadata": {
    "id": "KSGHEAeL6iK8"
   },
   "outputs": [
    {
     "name": "stdout",
     "output_type": "stream",
     "text": [
      "1\n"
     ]
    }
   ],
   "source": [
    "def ExponentialFunction(x,n):\n",
    "    if n==0:\n",
    "        return 1\n",
    "    if n==1:\n",
    "        return x\n",
    "    else:\n",
    "        return x * ExponentialFunction(x,n-1)\n",
    "print(ExponentialFunction(10,0))"
   ]
  },
  {
   "cell_type": "markdown",
   "metadata": {
    "id": "WBh2WBXY6iK8"
   },
   "source": [
    "## Task 09 – Unlimited Power II\n",
    "Using function for factorial and function $x^n$ from previous task, write a program that reads value of $x$ and prints approximate value of $e^x$. Use this formula (Taylor series) for calculation\n",
    "$$ e^x = 1 + x + \\frac{x^2}{2!} + \\frac{x^3}{3!} + ... + \\frac{x^n}{n!} $$\n",
    "\n",
    "To get precise value of $e^x$, the series would have to be infinite. Suppose that there is some required accuracy, so the calculation finishes as soon as the value of the next element is smaller than given threshold (e.g., 0.000001)."
   ]
  },
  {
   "cell_type": "code",
   "execution_count": 12,
   "metadata": {
    "id": "tRaZgBVX6iK9"
   },
   "outputs": [
    {
     "name": "stdout",
     "output_type": "stream",
     "text": [
      "6\n"
     ]
    }
   ],
   "source": [
    "def Factorial(x):\n",
    "    if x == 1:\n",
    "        return x\n",
    "    if x == 0:\n",
    "        return 1\n",
    "    else:\n",
    "        return x*Factorial(x-1)\n",
    "print(Factorial(3))"
   ]
  },
  {
   "cell_type": "code",
   "execution_count": 36,
   "metadata": {},
   "outputs": [
    {
     "name": "stdout",
     "output_type": "stream",
     "text": [
      "[1.0, 3.0, 4.5, 4.5, 3.375, 2.025, 1.0125, 0.43392857142857144, 0.1627232142857143, 0.05424107142857143, 0.016272321428571428, 0.004437905844155844, 0.001109476461038961, 0.00025603302947052944, 5.486422060082774e-05, 1.0972844120165549e-05, 2.0574082725310405e-06]\n",
      "20.085536488379084 20.085536923187668\n"
     ]
    }
   ],
   "source": [
    "import math\n",
    "Sum_Elements = []\n",
    "n = 0\n",
    "i = 3\n",
    "EXP = math.exp(i)\n",
    "while ExponentialFunction(i,n)/Factorial(n)>0.000001:\n",
    "    k = ExponentialFunction(i,n)/Factorial(n)\n",
    "    Sum_Elements.append(k)\n",
    "    n+=1\n",
    "print(Sum_Elements)\n",
    "print(sum(Sum_Elements),EXP)"
   ]
  },
  {
   "cell_type": "markdown",
   "metadata": {
    "id": "Wl9JCEYM6iK-"
   },
   "source": [
    "## Acknowledgements\n",
    "\n",
    "Redmond, Hsu, Saini, Gupta, Ramsey, Kondrich, Capoor, Cohen, Borus, Kincaid, Malik, and many others. - Stanford CS41"
   ]
  },
  {
   "cell_type": "code",
   "execution_count": null,
   "metadata": {
    "id": "Bx-WQj4v6iK-"
   },
   "outputs": [],
   "source": []
  }
 ],
 "metadata": {
  "colab": {
   "provenance": []
  },
  "kernelspec": {
   "display_name": "Python 3 (ipykernel)",
   "language": "python",
   "name": "python3"
  },
  "language_info": {
   "codemirror_mode": {
    "name": "ipython",
    "version": 3
   },
   "file_extension": ".py",
   "mimetype": "text/x-python",
   "name": "python",
   "nbconvert_exporter": "python",
   "pygments_lexer": "ipython3",
   "version": "3.10.0"
  }
 },
 "nbformat": 4,
 "nbformat_minor": 1
}
